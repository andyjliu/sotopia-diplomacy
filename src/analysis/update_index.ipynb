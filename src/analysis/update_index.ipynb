{
 "cells": [
  {
   "cell_type": "code",
   "execution_count": 1,
   "metadata": {},
   "outputs": [],
   "source": [
    "import redis\n",
    "\n",
    "# Connect to Redis\n",
    "redis_client = redis.StrictRedis(host='localhost', port=6379, db=0)"
   ]
  },
  {
   "cell_type": "code",
   "execution_count": null,
   "metadata": {},
   "outputs": [],
   "source": [
    "def update_profile_in_redis(profile_id, profile_data):\n",
    "    # Hardcoded index\n",
    "    hardcoded_index = \"AgentProfile:STATIC_INDEX\"\n",
    "    \n",
    "    # Fetch existing profile data if necessary\n",
    "    existing_data = redis_client.get(f\"AgentProfile:{profile_id}\")\n",
    "    \n",
    "    if existing_data:\n",
    "        # Delete the old entry\n",
    "        redis_client.delete(f\"AgentProfile:{profile_id}\")\n",
    "    \n",
    "    # Set the profile data with the hardcoded index\n",
    "    redis_client.set(hardcoded_index, profile_data)\n",
    "\n",
    "# Example usage\n",
    "profile_id = \"01J38VTZ6D2WFQGZF9CCNK3258\"\n",
    "profile_data = '{\"name\": \"Agent Name\", \"attribute\": \"value\"}'\n",
    "update_profile_in_redis(profile_id, profile_data)\n"
   ]
  }
 ],
 "metadata": {
  "kernelspec": {
   "display_name": "sotopia",
   "language": "python",
   "name": "python3"
  },
  "language_info": {
   "codemirror_mode": {
    "name": "ipython",
    "version": 3
   },
   "file_extension": ".py",
   "mimetype": "text/x-python",
   "name": "python",
   "nbconvert_exporter": "python",
   "pygments_lexer": "ipython3",
   "version": "3.11.9"
  }
 },
 "nbformat": 4,
 "nbformat_minor": 2
}
