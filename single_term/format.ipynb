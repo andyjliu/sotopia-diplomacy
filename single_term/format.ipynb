{
 "cells": [
  {
   "cell_type": "code",
   "execution_count": 1,
   "metadata": {},
   "outputs": [],
   "source": [
    "import rich"
   ]
  },
  {
   "cell_type": "code",
   "execution_count": 2,
   "metadata": {},
   "outputs": [
    {
     "data": {
      "text/html": [
       "<pre style=\"white-space:pre;overflow-x:auto;line-height:normal;font-family:Menlo,'DejaVu Sans Mono',consolas,'Courier New',monospace\">**Orders:**\n",
       "\n",
       "A LON H\n",
       "A EDI H\n",
       "F LVP S F EDI - NTH\n",
       "A LON S A EDI - NTH\n",
       "F NTH C A YOR - NWY\n",
       "A YOR - NWY VIA\n",
       "F IRI R MAO\n",
       "F IRI D\n",
       "A LON B\n",
       "\n",
       "\n",
       "</pre>\n"
      ],
      "text/plain": [
       "**Orders:**\n",
       "\n",
       "A LON H\n",
       "A EDI H\n",
       "F LVP S F EDI - NTH\n",
       "A LON S A EDI - NTH\n",
       "F NTH C A YOR - NWY\n",
       "A YOR - NWY VIA\n",
       "F IRI R MAO\n",
       "F IRI D\n",
       "A LON B\n",
       "\n",
       "\n"
      ]
     },
     "metadata": {},
     "output_type": "display_data"
    }
   ],
   "source": [
    "rich.print(\"**Orders:**\\n\\nA LON H\\nA EDI H\\nF LVP S F EDI - NTH\\nA LON S A EDI - NTH\\nF NTH C A YOR - NWY\\nA YOR - NWY VIA\\nF IRI R MAO\\nF IRI D\\nA LON B\\n\\n\")"
   ]
  },
  {
   "cell_type": "code",
   "execution_count": 3,
   "metadata": {},
   "outputs": [
    {
     "data": {
      "text/html": [
       "<pre style=\"white-space:pre;overflow-x:auto;line-height:normal;font-family:Menlo,'DejaVu Sans Mono',consolas,'Courier New',monospace\">**Orders:**\n",
       "\n",
       "A VIE H\n",
       "A BUD H\n",
       "F TRI S F VIE - BUD\n",
       "A VIE S A BUD - BUD\n",
       "F KIE C A MUN - BEL\n",
       "A MUN - BEL VIA\n",
       "F NTH R MAO\n",
       "F NTH D\n",
       "A VIE B\n",
       "\n",
       "\n",
       "</pre>\n"
      ],
      "text/plain": [
       "**Orders:**\n",
       "\n",
       "A VIE H\n",
       "A BUD H\n",
       "F TRI S F VIE - BUD\n",
       "A VIE S A BUD - BUD\n",
       "F KIE C A MUN - BEL\n",
       "A MUN - BEL VIA\n",
       "F NTH R MAO\n",
       "F NTH D\n",
       "A VIE B\n",
       "\n",
       "\n"
      ]
     },
     "metadata": {},
     "output_type": "display_data"
    }
   ],
   "source": [
    "rich.print(\"**Orders:**\\n\\nA VIE H\\nA BUD H\\nF TRI S F VIE - BUD\\nA VIE S A BUD - BUD\\nF KIE C A MUN - BEL\\nA MUN - BEL VIA\\nF NTH R MAO\\nF NTH D\\nA VIE B\\n\\n\")"
   ]
  },
  {
   "cell_type": "code",
   "execution_count": null,
   "metadata": {},
   "outputs": [],
   "source": []
  }
 ],
 "metadata": {
  "kernelspec": {
   "display_name": "sotopia",
   "language": "python",
   "name": "python3"
  },
  "language_info": {
   "codemirror_mode": {
    "name": "ipython",
    "version": 3
   },
   "file_extension": ".py",
   "mimetype": "text/x-python",
   "name": "python",
   "nbconvert_exporter": "python",
   "pygments_lexer": "ipython3",
   "version": "3.11.9"
  }
 },
 "nbformat": 4,
 "nbformat_minor": 2
}
