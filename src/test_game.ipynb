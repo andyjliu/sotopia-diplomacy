{
 "cells": [
  {
   "cell_type": "code",
   "execution_count": 9,
   "metadata": {},
   "outputs": [],
   "source": [
    "import random\n",
    "import json\n",
    "import os\n",
    "import shutil"
   ]
  },
  {
   "cell_type": "code",
   "execution_count": 6,
   "metadata": {},
   "outputs": [],
   "source": [
    "source_dir = \"/data/user_data/wenkail/sotopia_diplomacy/clean_global\"\n",
    "all_files = [f for f in os.listdir(source_dir) if f.endswith('.json')]\n",
    "random.seed(42)\n",
    "sample_size = 100\n",
    "sampled_files = random.sample(all_files, min(sample_size, len(all_files)))"
   ]
  },
  {
   "cell_type": "code",
   "execution_count": 10,
   "metadata": {},
   "outputs": [
    {
     "name": "stdout",
     "output_type": "stream",
     "text": [
      "Copied 100 files to /data/user_data/wenkail/sotopia_diplomacy/clean_global_sub_sample\n"
     ]
    }
   ],
   "source": [
    "source_dir = \"/data/user_data/wenkail/sotopia_diplomacy/clean_global\"\n",
    "target_dir = \"/data/user_data/wenkail/sotopia_diplomacy/clean_global_sub_sample\"\n",
    "for file in sampled_files:\n",
    "    shutil.copy2(os.path.join(source_dir, file), os.path.join(target_dir, file))\n",
    "\n",
    "print(f\"Copied {len(sampled_files)} files to {target_dir}\")"
   ]
  },
  {
   "cell_type": "code",
   "execution_count": 8,
   "metadata": {},
   "outputs": [
    {
     "data": {
      "text/plain": [
       "'74152.json'"
      ]
     },
     "execution_count": 8,
     "metadata": {},
     "output_type": "execute_result"
    }
   ],
   "source": [
    "sampled_files[0]"
   ]
  },
  {
   "cell_type": "code",
   "execution_count": null,
   "metadata": {},
   "outputs": [],
   "source": []
  }
 ],
 "metadata": {
  "kernelspec": {
   "display_name": "diplomacy_cicero",
   "language": "python",
   "name": "python3"
  },
  "language_info": {
   "codemirror_mode": {
    "name": "ipython",
    "version": 3
   },
   "file_extension": ".py",
   "mimetype": "text/x-python",
   "name": "python",
   "nbconvert_exporter": "python",
   "pygments_lexer": "ipython3",
   "version": "3.11.9"
  }
 },
 "nbformat": 4,
 "nbformat_minor": 2
}
