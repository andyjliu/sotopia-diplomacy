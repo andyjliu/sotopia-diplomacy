{
 "cells": [
  {
   "cell_type": "code",
   "execution_count": 1,
   "metadata": {},
   "outputs": [],
   "source": [
    "import json\n",
    "import rich"
   ]
  },
  {
   "cell_type": "code",
   "execution_count": 2,
   "metadata": {},
   "outputs": [],
   "source": [
    "with open(\"taskeval_1757_intent_episode_gpt4.json\", \"r\") as f:\n",
    "    gpt = json.load(f)\n",
    "\n",
    "with open(\"taskeval_1757_intent_episode_llama3.json\", \"r\") as f:\n",
    "    llama = json.load(f)"
   ]
  },
  {
   "cell_type": "code",
   "execution_count": 13,
   "metadata": {},
   "outputs": [
    {
     "name": "stdout",
     "output_type": "stream",
     "text": [
      "0 AUSTRIA -> ITALY: Hello Italy, nice to play Diplomacy with you! I'm Austria, representing Austria. I'm excited to form alliances and work together to achieve our goals. What's your country, and what are your thoughts on the current board situation?\n",
      "1 ITALY -> AUSTRIA: Hello Austria, nice to meet you too! I'm Italy, representing Italy. I'm also excited to form alliances and work together. I think the current board situation is quite interesting, with many possibilities. I notice that our countries share a border, and I believe we could mutually benefit from cooperating. Perhaps we could discuss ways to support each other in gaining supply centers, especially in the Mediterranean region?\n",
      "2 AUSTRIA -> ITALY: I completely agree with you, Italy. Our shared border does present opportunities for cooperation. I think supporting each other in gaining supply centers in the Mediterranean region could be mutually beneficial. Specifically, I was thinking that if you were to move your army in Venice to Trieste, it would put pressure on the Balkans and create an opportunity for me to move my army in Budapest to Rumania. This would allow us to gain a foothold in the region and potentially pick up some supply centers. What are your thoughts on this proposal?\n",
      "3 ITALY -> AUSTRIA: I think your proposal is interesting, Austria. Moving my army in Venice to Trieste could put pressure on the Balkans, but I'm not sure if it's the best move for me right now. I'd like to explore other options that could benefit both of us. What if I were to move my army in Venice to Albania instead? This could give us a stronger presence in the Mediterranean and create opportunities for us to work together to take supply centers in the region. What are your thoughts on this alternative?\n",
      "4 AUSTRIA -> ITALY: I understand your concerns, Italy. Moving your army in Venice to Albania could indeed strengthen our presence in the Mediterranean. However, I think it's essential to consider the bigger picture. With your army in Albania, it would put pressure on Greece, which could lead to a potential conflict with Turkey. If we work together, we could potentially take Greece and split the supply center. What are your thoughts on this possibility?\n",
      "5 ITALY -> AUSTRIA: I understand your concerns about Turkey, Austria. However, I think we can work together to mitigate any potential risks. If we coordinate our movements, we can create a strong alliance that will benefit both our countries. How about we discuss a simultaneous move, where I move my army in Venice to Albania, and you move your army in Budapest to Rumania? This way, we can create a strong presence in the region and protect each other's interests.\n",
      "6 AUSTRIA -> ITALY: I think your proposal is a great idea, Italy. Simultaneous moves can be a powerful way to achieve our goals. Let's finalize the plan and make sure we're both on the same page. Shall we agree that you'll move your army in Venice to Albania, and I'll move my army in Budapest to Rumania? This way, we can secure our interests and set ourselves up for future success.\n",
      "7 ITALY -> AUSTRIA: I completely agree, Austria. Let's finalize the plan and make sure we're both on the same page. Shall we also discuss how we can support each other in future turns, perhaps by coordinating our movements to take supply centers in the Mediterranean region?\n",
      "8 AUSTRIA -> ITALY: I'm glad we have a plan in place for this turn, Italy. Looking ahead, I think it would be beneficial for us to continue coordinating our movements to take supply centers in the Mediterranean region. Perhaps we could discuss a potential move into Greece together, or even consider supporting each other in a move against Turkey. What are your thoughts on these possibilities?\n",
      "9 ITALY -> AUSTRIA: I'm glad we're on the same page, Austria. I think supporting each other in a move against Turkey could be a great opportunity for us to gain more supply centers. Perhaps we could discuss a potential move into Greece together, and then consider supporting each other in a move against Turkey. What are your thoughts on this possibility? Additionally, I was thinking that if we work together, we could potentially take control of the Mediterranean region, which would give us a strong advantage in the game. What do you think about this strategy?\n",
      "10 AUSTRIA -> ITALY: I think taking control of the Mediterranean region is a great strategy, Italy. If we work together, we can create a strong alliance that will benefit both our countries. Let's continue to discuss the specifics of our plan and make sure we're on the same page. Perhaps we can also consider supporting each other in taking supply centers in other regions, such as the Balkans or Central Europe.\n",
      "11 ITALY -> AUSTRIA: I completely agree, Austria. Taking control of the Mediterranean region would give us a strong advantage in the game. Let's discuss the specifics of our plan and make sure we're on the same page. Perhaps we can also consider supporting each other in taking supply centers in other regions, such as the Balkans or Central Europe. Additionally, I was thinking that if we work together, we could potentially take control of the Adriatic Sea, which would give us a strong foothold in the region. What are your thoughts on this possibility?\n",
      "12 AUSTRIA -> ITALY: I think taking control of the Adriatic Sea is a great idea, Italy. It would give us a strong foothold in the region and allow us to further expand our influence. Let's discuss the specifics of how we can work together to achieve this goal. Perhaps we can coordinate our movements to take Trieste and then move into the Adriatic Sea. What are your thoughts on this plan?\n",
      "13 ITALY -> AUSTRIA: I think taking control of the Adriatic Sea is a great idea, Austria. Let's discuss the specifics of how we can work together to achieve this goal. Perhaps we can coordinate our movements to take Trieste and then move into the Adriatic Sea. Additionally, I was thinking that if we work together, we could potentially take control of the Ionian Sea as well, which would give us a strong presence in the Mediterranean region. What are your thoughts on this possibility?\n",
      "14 AUSTRIA -> ITALY: I completely agree with you, Italy. Taking control of the Ionian Sea would give us a strong presence in the Mediterranean region. Let's discuss the specifics of how we can work together to achieve this goal. Perhaps we can coordinate our movements to take Naples and then move into the Ionian Sea. What are your thoughts on this plan?\n",
      "15 ITALY -> AUSTRIA: I think we're making great progress, Austria. Taking control of the Adriatic Sea and the Ionian Sea would give us a strong presence in the Mediterranean region. Let's finalize our plan and make sure we're both on the same page. Shall we also discuss how we can support each other in taking supply centers in other regions, such as the Balkans or Central Europe?\n",
      "16 AUSTRIA -> ITALY: I think we're making great progress, Italy. Let's finalize our plan and make sure we're both on the same page. Shall we also discuss how we can support each other in taking supply centers in the Balkans, particularly in Serbia and Bulgaria? This could give us a strong foothold in the region and open up opportunities for further expansion.\n",
      "17 ITALY -> AUSTRIA: I think supporting each other in taking supply centers in the Balkans, particularly in Serbia and Bulgaria, is a great idea, Austria. Let's discuss the specifics of how we can work together to achieve this goal. Perhaps we can coordinate our movements to take Serbia and then move into Bulgaria. What are your thoughts on this plan?\n",
      "18 AUSTRIA -> ITALY: I think we're on the same page, Italy. Let's finalize our plan and make sure we're both on the same page. Shall we also discuss how we can support each other in taking supply centers in Central Europe, particularly in Munich and Berlin? This could give us a strong foothold in the region and open up opportunities for further expansion.\n",
      "19 ITALY -> AUSTRIA: I think supporting each other in taking supply centers in Central Europe, particularly in Munich and Berlin, is a great idea, Austria. Let's discuss the specifics of how we can work together to achieve this goal. Perhaps we can coordinate our movements to take Munich and then move into Berlin. What are your thoughts on this plan?\n",
      "20 AUSTRIA -> ITALY: I think we've made great progress, Italy. Let's review our plan and make sure we're both on the same page. Shall we confirm our moves for this turn and discuss any potential adjustments for future turns?\n"
     ]
    }
   ],
   "source": [
    "env_id = \"01J59BRYJKH6QPCXQSP8FPAME4\"\n",
    "for i in llama:\n",
    "    if i['env_uuid'] == env_id:\n",
    "        print(i['intent_dialogue'])"
   ]
  },
  {
   "cell_type": "code",
   "execution_count": 14,
   "metadata": {},
   "outputs": [
    {
     "name": "stdout",
     "output_type": "stream",
     "text": [
      "0 AUSTRIA -> ITALY: Good day. I've been considering our positions on the board, and I think there could be some beneficial moves we could discuss. Specifically, I'm looking at the strategic value of the Balkans and how we might ensure stability in the region. What are your thoughts on the current distribution of forces?\n",
      "1 ITALY -> AUSTRIA: Buongiorno, Austria. I appreciate your initiative to discuss strategy. Stability in the Balkans is crucial, indeed. My current forces are positioned in Venice, Vienna, and the surrounding seas. I believe a joint effort to control and defend this area could be mutually beneficial. Perhaps we can support each other's moves to ensure a stronger hold on the region. Do you have any specific moves in mind that could serve our interests?\n",
      "2 AUSTRIA -> ITALY: Ciao Italy, I'm pleased we're on the same page regarding the Balkans. For Austria, a move from Albania to support an advance into Serbia could be advantageous. Meanwhile, my army in Budapest is in a prime position to support hold Vienna from any aggression. Your control over Venice and the adjacent seas provides us both with a defensive perimeter while we consolidate power in the region. How do you feel about coordinating our efforts in such a way? And do you have any concerns or additional ideas?\n",
      "3 ITALY -> AUSTRIA: Your proposal aligns well with my strategic interests, Austria. The support from Albania to Serbia is a sensible move, strengthening our presence in the Balkans. As for Vienna, your support is invaluable. In return, I can commit my fleets to maintain our security from the seas, ensuring no external forces can easily penetrate our perimeter. We should also consider future expansions and how to protect our newly gained territories. Do you have any contingencies in mind for the next phases of our expansion?\n",
      "4 AUSTRIA -> ITALY: Italy, I'm glad to hear we're aligned. For the next phase, it's essential to keep an eye on potential threats from neighboring powers. A contingency plan should include securing support from allies and potentially outmaneuvering any hostile advances. Specifically, we need to consider the movements of Russian and Turkish forces. Strengthening our position in the Balkans now can provide us with a springboard for future expansions. Perhaps we can discuss a non-aggression pact with one of our neighbors to ensure we can focus on growth without immediate threats. What are your thoughts on initiating such diplomatic relations?\n",
      "5 ITALY -> AUSTRIA: A non-aggression pact could indeed be a strategic safeguard, Austria. Diplomatic relations with either Russia or Turkey could afford us the space needed to focus on the Balkans and beyond. My inclination is towards opening a dialogue with Turkey, as their position could directly influence our movements in the Balkans. However, this must be a carefully balanced approach to avoid tipping the scale of power. What are your thoughts on approaching Turkey with this proposition? We should also consider a contingency in case talks do not proceed as desired. It's pivotal to maintain flexibility in our strategies.\n",
      "6 AUSTRIA -> ITALY: Reaching out to Turkey seems like a prudent choice, Italy. I concur that their geographical position and potential influence in the Balkans make them an ideal candidate for a non-aggression pact. Let's proceed with caution and extend a diplomatic offer to Turkey. Meanwhile, we should also prepare for the scenario where Turkey might decline our proposal. In that case, fortifying our defenses and possibly seeking support from another neighbor such as Russia could be our fallback strategy. We must stay vigilant and adapt as the situation evolves. Shall we finalize our movements for this turn and set the groundwork for our diplomatic outreach to Turkey?\n",
      "7 ITALY -> AUSTRIA: Austria, our plans are coming together smoothly. Let's finalize our moves for this turn: I'll move from Albania to support Serbia, and ensure our fleets solidify our defense from the seas. Meanwhile, we'll extend a careful diplomatic offer to Turkey. Should our offer be declined, we'll turn to Russia for a possible alliance and continue to fortify our positions. It's a delicate balance, but I'm confident in our strategic approach. When you're ready, let's communicate our decisions and prepare for the next phase of the game.\n",
      "8 AUSTRIA -> ITALY: Italy, our coordination is key to our success. I'll move from Albania to support Serbia as discussed. I'll also ensure Budapest and Vienna are well-defended. I agree to reach out to Turkey with our diplomatic offer. Let's remain in close communication to swiftly adjust our strategy in response to any new developments. It's time to implement our plans and I'm ready to proceed with the next phase. Are we in agreement on all points?\n",
      "9 ITALY -> AUSTRIA: Yes, Austria, we are in full agreement. I'll proceed with supporting Serbia from Albania and keeping our naval defenses strong. Your moves to secure Budapest and Vienna will be crucial. I'm ready to move forward with our diplomatic approach to Turkey, and we'll stay alert to adapt our strategy as needed. Let's stay in close contact to effectively respond to the unfolding events. Buona fortuna to us both as we move into the next phase.\n",
      "10 AUSTRIA -> ITALY: Grazie, Italy. We're set for this turn. I'll proceed with the support in Serbia and secure our defenses. I'll also initiate the dialogue with Turkey. Let's keep our lines open for quick adjustments and be ready for any potential responses. Together, we'll navigate the board effectively. Let's move forward with our agreed strategy.\n",
      "11 ITALY -> AUSTRIA: Perfetto, Austria. With our strategy set and our moves coordinated, I believe we're well-prepared for this turn. I'll make sure our naval forces are positioned effectively, and I'm on standby to manage our diplomatic efforts with Turkey. As we've planned, let's remain vigilant and ready to adapt. I look forward to seeing how our strategy unfolds and to our continued collaboration. A presto.\n",
      "12 AUSTRIA -> ITALY: A presto, Italy. With our moves and strategies in place, I am optimistic about our prospects. Remember, flexibility and communication are key. I'll keep you updated on the discussions with Turkey and any strategic changes we might need to consider. Until our next move, let's stay prepared and proactive.\n",
      "13 ITALY -> AUSTRIA: Grazie, Austria. Communication and adaptability are indeed our pillars of strength. I'll stay ready to adjust our plans as necessary and will await updates on the dialogue with Turkey. Until our next discussion, let's keep our focus sharp and our tactics dynamic. Buona fortuna, and speak soon.\n",
      "14 AUSTRIA -> ITALY: Grazie, Italy. I'm confident our strategic collaboration will yield positive results. I'll ensure our moves are executed as planned and keep an attentive eye on the broader board dynamics. We'll touch base after the moves have been made to reassess and plan our next steps. Buona fortuna to us, and until our next conversation, let's maintain our strategic edge.\n",
      "15 ITALY -> AUSTRIA: Grazie, Austria. Our strategy is well-planned, and I'm eager to see how it plays out. I will proceed with our naval positioning and monitor the situation closely. Post-movement, we'll reconvene to analyze the outcomes and determine our future course of action. Until then, let's keep a steady hand on the game. Buona fortuna, and I'll be in touch soon.\n",
      "16 AUSTRIA -> ITALY: Buona fortuna to you as well, Italy. Our meticulous planning will surely guide us well. I'll move forward with the agreed actions and keep vigilant. I'll be in touch after we've seen the results of this turn to discuss our next moves. Until then, let's play with precision and foresight.\n",
      "17 ITALY -> AUSTRIA: Certainly, Austria. I look forward to our strategic collaboration bearing fruit. As we both execute our planned actions, we will remain observant and ready to adapt to the evolving game board. After the turn's outcomes are clear, we'll reconvene to discuss our forthcoming strategies. Until then, let's play with insight and determination.\n",
      "18 AUSTRIA -> ITALY: Absolutely, Italy. Once we've implemented our current strategies and assessed the results, we'll have a clearer picture to inform our next decisions. I'm ready to adapt to any new developments and continue our collaborative efforts. I'll reach out after the turn to discuss our situation and plan accordingly. Until then, let's remain strategically engaged and proactive.\n",
      "19 ITALY -> AUSTRIA: I concur, Austria. After we see the results of our current strategies, we can make well-informed decisions for our next steps. I'm prepared to adapt to the evolving dynamics and continue our successful partnership. I'll be ready for our discussion post-turn to refine our strategy and maintain our momentum. Until our next conversation, let's remain focused and strategic.\n",
      "20 AUSTRIA -> ITALY: Thank you, Italy. With our strategies set and our adaptability at the ready, I am confident in our direction. I'll closely monitor the board as our plans unfold and will contact you post-turn to refine our future plays. Until then, let's keep our strategies sharp and our alliance strong.\n"
     ]
    }
   ],
   "source": [
    "for i in gpt:\n",
    "    if i['env_uuid'] == env_id:\n",
    "        print(i['intent_dialogue'])"
   ]
  },
  {
   "cell_type": "code",
   "execution_count": null,
   "metadata": {},
   "outputs": [],
   "source": []
  }
 ],
 "metadata": {
  "kernelspec": {
   "display_name": "lp",
   "language": "python",
   "name": "python3"
  },
  "language_info": {
   "codemirror_mode": {
    "name": "ipython",
    "version": 3
   },
   "file_extension": ".py",
   "mimetype": "text/x-python",
   "name": "python",
   "nbconvert_exporter": "python",
   "pygments_lexer": "ipython3",
   "version": "3.10.14"
  }
 },
 "nbformat": 4,
 "nbformat_minor": 2
}
