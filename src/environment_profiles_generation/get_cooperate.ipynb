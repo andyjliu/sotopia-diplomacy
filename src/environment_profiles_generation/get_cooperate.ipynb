{
 "cells": [
  {
   "cell_type": "code",
   "execution_count": 27,
   "metadata": {},
   "outputs": [],
   "source": [
    "import json\n",
    "import rich"
   ]
  },
  {
   "cell_type": "code",
   "execution_count": 2,
   "metadata": {},
   "outputs": [],
   "source": [
    "message_choice_phase_file = \"choice_phase_list.json\"\n",
    "with open(message_choice_phase_file, 'r') as f:\n",
    "    mc = json.load(f)"
   ]
  },
  {
   "cell_type": "code",
   "execution_count": 13,
   "metadata": {},
   "outputs": [
    {
     "data": {
      "text/plain": [
       "{'game_id': '13353',\n",
       " 'phase': 'S1903M',\n",
       " 'countries': ['Russia', 'Turkey'],\n",
       " 'message_count': 3}"
      ]
     },
     "execution_count": 13,
     "metadata": {},
     "output_type": "execute_result"
    }
   ],
   "source": [
    "record = mc[0]\n",
    "record"
   ]
  },
  {
   "cell_type": "code",
   "execution_count": 5,
   "metadata": {},
   "outputs": [],
   "source": [
    "game_dir = \"/data/user_data/wenkail/sotopia_diplomacy/whole_filter_games_100/\""
   ]
  },
  {
   "cell_type": "code",
   "execution_count": 42,
   "metadata": {},
   "outputs": [],
   "source": [
    "# def find_support_orders(orders):\n",
    "#     support_orders = []\n",
    "    \n",
    "#     for country, country_orders in orders.items():\n",
    "#         for order in country_orders:\n",
    "#             if ' S ' in order:\n",
    "#                 parts = order.split(' S ')\n",
    "#                 supporting_unit = parts[0]\n",
    "#                 supported_action = parts[1]\n",
    "#                 supported_unit = supported_action.split(' - ')[0]\n",
    "#                 support_orders.append({\n",
    "#                     'supporting_country': country,\n",
    "#                     'order': order,\n",
    "#                     'supporting_unit': supporting_unit,\n",
    "#                     'supported_unit': supported_unit\n",
    "#                 })\n",
    "    \n",
    "#     return support_orders\n",
    "\n",
    "def complete_support(phase):\n",
    "    orders = phase['orders']\n",
    "    complete_support_two_country = []\n",
    "    for country, country_orders in orders.items():\n",
    "        for order in country_orders:\n",
    "            if ' S ' in order:\n",
    "                parts = order.split(' S ')\n",
    "                supporting_unit = parts[0]\n",
    "                supported_action = parts[1]\n",
    "                supported_unit = supported_action.split(' - ')[0]\n",
    "                for c, u in phase['state']['units'].items():\n",
    "                    if supported_unit in u:\n",
    "                        supported_country = c\n",
    "                # complete_support_order.append({\n",
    "                #     'supporting_country': country,\n",
    "                #     'supporting_unit': supporting_unit,\n",
    "                #     'order': order,\n",
    "                #     'supported_unit': supported_unit,\n",
    "                #     'supported_country': supported_country\n",
    "                # })\n",
    "                if country != supported_country:\n",
    "                    complete_support_two_country.append([country, supported_country])\n",
    "    return complete_support_two_country"
   ]
  },
  {
   "cell_type": "code",
   "execution_count": 14,
   "metadata": {},
   "outputs": [],
   "source": [
    "# Test one example\n",
    "game_path = f\"{game_dir}{record['game_id']}.json\"\n",
    "with open(game_path, \"r\") as file:\n",
    "    game = json.load(file)\n",
    "\n",
    "# Current P:\n",
    "for p in game['phases']:\n",
    "    if record['phase'] == p['name']:\n",
    "        cp = p"
   ]
  },
  {
   "cell_type": "code",
   "execution_count": 21,
   "metadata": {},
   "outputs": [
    {
     "data": {
      "text/plain": [
       "{'AUSTRIA': ['A BUD', 'A VIE', 'A SER'],\n",
       " 'ENGLAND': ['F NWG', 'F NTH', 'A YOR'],\n",
       " 'FRANCE': ['A SPA', 'A PIC', 'F POR', 'A PAR', 'A MAR'],\n",
       " 'GERMANY': ['F HOL', 'A DEN', 'A BEL', 'A MUN', 'F HEL', 'A BUR'],\n",
       " 'ITALY': ['F ION', 'A TYR', 'A GRE', 'A TRI', 'A VEN', 'F ROM'],\n",
       " 'RUSSIA': ['A UKR', 'F SWE', 'A GAL', 'A BOH', 'F NWY'],\n",
       " 'TURKEY': ['F BLA', 'A RUM', 'A BUL', 'A SEV', 'A CON', 'F SMY']}"
      ]
     },
     "execution_count": 21,
     "metadata": {},
     "output_type": "execute_result"
    }
   ],
   "source": [
    "cp['state']['units']"
   ]
  },
  {
   "cell_type": "code",
   "execution_count": 43,
   "metadata": {},
   "outputs": [
    {
     "data": {
      "text/html": [
       "<pre style=\"white-space:pre;overflow-x:auto;line-height:normal;font-family:Menlo,'DejaVu Sans Mono',consolas,'Courier New',monospace\"><span style=\"font-weight: bold\">[[</span><span style=\"color: #008000; text-decoration-color: #008000\">'ENGLAND'</span>, <span style=\"color: #008000; text-decoration-color: #008000\">'RUSSIA'</span><span style=\"font-weight: bold\">]</span>, <span style=\"font-weight: bold\">[</span><span style=\"color: #008000; text-decoration-color: #008000\">'ITALY'</span>, <span style=\"color: #008000; text-decoration-color: #008000\">'RUSSIA'</span><span style=\"font-weight: bold\">]</span>, <span style=\"font-weight: bold\">[</span><span style=\"color: #008000; text-decoration-color: #008000\">'RUSSIA'</span>, <span style=\"color: #008000; text-decoration-color: #008000\">'GERMANY'</span><span style=\"font-weight: bold\">]</span>, <span style=\"font-weight: bold\">[</span><span style=\"color: #008000; text-decoration-color: #008000\">'TURKEY'</span>, <span style=\"color: #008000; text-decoration-color: #008000\">'AUSTRIA'</span><span style=\"font-weight: bold\">]]</span>\n",
       "</pre>\n"
      ],
      "text/plain": [
       "\u001b[1m[\u001b[0m\u001b[1m[\u001b[0m\u001b[32m'ENGLAND'\u001b[0m, \u001b[32m'RUSSIA'\u001b[0m\u001b[1m]\u001b[0m, \u001b[1m[\u001b[0m\u001b[32m'ITALY'\u001b[0m, \u001b[32m'RUSSIA'\u001b[0m\u001b[1m]\u001b[0m, \u001b[1m[\u001b[0m\u001b[32m'RUSSIA'\u001b[0m, \u001b[32m'GERMANY'\u001b[0m\u001b[1m]\u001b[0m, \u001b[1m[\u001b[0m\u001b[32m'TURKEY'\u001b[0m, \u001b[32m'AUSTRIA'\u001b[0m\u001b[1m]\u001b[0m\u001b[1m]\u001b[0m\n"
      ]
     },
     "metadata": {},
     "output_type": "display_data"
    }
   ],
   "source": [
    "rich.print(complete_support(cp))"
   ]
  },
  {
   "cell_type": "code",
   "execution_count": 44,
   "metadata": {},
   "outputs": [],
   "source": [
    "md = {'a': 1, 'b': 2}"
   ]
  },
  {
   "cell_type": "code",
   "execution_count": 48,
   "metadata": {},
   "outputs": [
    {
     "data": {
      "text/plain": [
       "{'a': 1, 'b': 2, 'c': 3}"
      ]
     },
     "execution_count": 48,
     "metadata": {},
     "output_type": "execute_result"
    }
   ],
   "source": [
    "md['c'] = 3\n",
    "md"
   ]
  },
  {
   "cell_type": "code",
   "execution_count": null,
   "metadata": {},
   "outputs": [],
   "source": []
  }
 ],
 "metadata": {
  "kernelspec": {
   "display_name": "sotopia",
   "language": "python",
   "name": "python3"
  },
  "language_info": {
   "codemirror_mode": {
    "name": "ipython",
    "version": 3
   },
   "file_extension": ".py",
   "mimetype": "text/x-python",
   "name": "python",
   "nbconvert_exporter": "python",
   "pygments_lexer": "ipython3",
   "version": "3.11.9"
  }
 },
 "nbformat": 4,
 "nbformat_minor": 2
}
