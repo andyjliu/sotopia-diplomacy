{
 "cells": [
  {
   "cell_type": "code",
   "execution_count": null,
   "metadata": {},
   "outputs": [],
   "source": [
    "import json\n",
    "import rich\n",
    "import re\n",
    "import os\n",
    "from tqdm import tqdm\n",
    "import sys\n",
    "sys.path.append(\"/home/wenkail/diplomacy/diplomacy_cicero\")\n",
    "from fairdiplomacy import pydipcc "
   ]
  },
  {
   "cell_type": "code",
   "execution_count": 2,
   "metadata": {},
   "outputs": [
    {
     "name": "stderr",
     "output_type": "stream",
     "text": [
      "100%|██████████| 100/100 [00:01<00:00, 60.52it/s]\n"
     ]
    }
   ],
   "source": [
    "folder_path = \"/data/user_data/wenkail/sotopia_diplomacy/clean_global_sub_sample\"\n",
    "file_paths = []\n",
    "for root, dirs, files in os.walk(folder_path):\n",
    "    for file in files:\n",
    "        file_path = os.path.join(root, file)\n",
    "        file_paths.append(file_path)\n",
    "\n",
    "games = []\n",
    "num = 0\n",
    "for file_path in tqdm(file_paths):\n",
    "    try:\n",
    "        pydipcc.Game.from_json(open(file_path,'r').read())\n",
    "        with open(file_path, 'r') as f:\n",
    "            games.append(json.load(f))\n",
    "    except Exception as e:\n",
    "        num+=1\n",
    "        print(f\"Num: {num} {e}\")"
   ]
  },
  {
   "cell_type": "code",
   "execution_count": 3,
   "metadata": {},
   "outputs": [
    {
     "data": {
      "text/plain": [
       "100"
      ]
     },
     "execution_count": 3,
     "metadata": {},
     "output_type": "execute_result"
    }
   ],
   "source": [
    "len(games)"
   ]
  },
  {
   "cell_type": "code",
   "execution_count": 4,
   "metadata": {},
   "outputs": [
    {
     "name": "stderr",
     "output_type": "stream",
     "text": [
      "100%|██████████| 100/100 [00:00<00:00, 2441.16it/s]\n"
     ]
    }
   ],
   "source": [
    "pattern = r'[SF]19(0[3-6])M'\n",
    "compiled_pattern = re.compile(pattern)\n",
    "\n",
    "for game in tqdm(games):\n",
    "    game[\"phases\"] = [phase for phase in game[\"phases\"] \n",
    "                      if phase['name'].endswith('M') and compiled_pattern.search(phase['name'])]\n",
    "    "
   ]
  },
  {
   "cell_type": "code",
   "execution_count": 5,
   "metadata": {},
   "outputs": [
    {
     "name": "stdout",
     "output_type": "stream",
     "text": [
      "S1903M\n",
      "F1903M\n",
      "S1904M\n",
      "F1904M\n",
      "S1905M\n",
      "F1905M\n",
      "S1906M\n",
      "F1906M\n"
     ]
    }
   ],
   "source": [
    "for phase in games[0]['phases']:\n",
    "    print(phase[\"name\"])"
   ]
  },
  {
   "cell_type": "code",
   "execution_count": null,
   "metadata": {},
   "outputs": [],
   "source": [
    "output_folder = \"/data/user_data/wenkail/sotopia_diplomacy/whole_filter_games_100\"\n",
    "os.makedirs(output_folder, exist_ok=True)\n",
    "\n",
    "for game in games:\n",
    "    game_id = game['id']\n",
    "    output_file_path = os.path.join(output_folder, f\"{game_id}.json\")\n",
    "    with open(output_file_path, 'w') as outfile:\n",
    "        json.dump(game, outfile, indent=4)"
   ]
  },
  {
   "cell_type": "markdown",
   "metadata": {},
   "source": [
    "### Game Exploration"
   ]
  },
  {
   "cell_type": "code",
   "execution_count": 1,
   "metadata": {},
   "outputs": [],
   "source": [
    "import json\n",
    "with open(\"/data/user_data/wenkail/sotopia_diplomacy/clean_global_sub_sample/23459.json\") as f:\n",
    "    data = json.load(f)"
   ]
  },
  {
   "cell_type": "code",
   "execution_count": 10,
   "metadata": {},
   "outputs": [
    {
     "data": {
      "text/plain": [
       "{'AUSTRIA': ['A BUD H', 'A VIE H', 'F TRI H'],\n",
       " 'ENGLAND': ['F LON H', 'A LVP H', 'F EDI H'],\n",
       " 'FRANCE': ['A MAR - SPA', 'A PAR - BUR', 'F BRE - MAO'],\n",
       " 'GERMANY': ['F KIE - DEN', 'A BER - KIE', 'A MUN - RUH'],\n",
       " 'ITALY': ['A VEN H', 'A ROM H', 'F NAP H'],\n",
       " 'RUSSIA': ['F SEV - BLA', 'A WAR H', 'F STP/SC - FIN', 'A MOS - UKR'],\n",
       " 'TURKEY': ['A CON H', 'A SMY H', 'F ANK H']}"
      ]
     },
     "execution_count": 10,
     "metadata": {},
     "output_type": "execute_result"
    }
   ],
   "source": [
    "data['phases'][0]['orders']"
   ]
  }
 ],
 "metadata": {
  "kernelspec": {
   "display_name": "sotopia",
   "language": "python",
   "name": "python3"
  },
  "language_info": {
   "codemirror_mode": {
    "name": "ipython",
    "version": 3
   },
   "file_extension": ".py",
   "mimetype": "text/x-python",
   "name": "python",
   "nbconvert_exporter": "python",
   "pygments_lexer": "ipython3",
   "version": "3.11.9"
  }
 },
 "nbformat": 4,
 "nbformat_minor": 2
}
