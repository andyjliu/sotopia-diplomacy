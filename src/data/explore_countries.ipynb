{
 "cells": [
  {
   "cell_type": "code",
   "execution_count": 3,
   "metadata": {},
   "outputs": [],
   "source": [
    "import json\n",
    "import os\n",
    "import rich\n",
    "import sys\n",
    "import numpy as np\n",
    "sys.path.append('../')\n"
   ]
  },
  {
   "cell_type": "code",
   "execution_count": 4,
   "metadata": {},
   "outputs": [],
   "source": [
    "def get_country_value(file_path, c1=\"England\", c2=\"Germany\"):\n",
    "    with open(file_path , 'r') as f:\n",
    "        data = json.load(f)\n",
    "    games = []\n",
    "    countries_value = {}\n",
    "    c1 = \"England\"\n",
    "    c2 = \"Germany\"\n",
    "    num = 0\n",
    "    # countries_value[c1] = []\n",
    "    # countries_value[c2] = []\n",
    "    c1_prediction_value = []\n",
    "    c2_prediction_value = []\n",
    "    c1_actual_value = []\n",
    "    c2_actual_value = []\n",
    "    for i in data:\n",
    "        num += 1\n",
    "        try:\n",
    "            c1_prediction_value.append(i[c1]['predict'][0][1])\n",
    "            c2_prediction_value.append(i[c2]['predict'][0][1])\n",
    "            c1_actual_value.append(i[c1]['actual'][0][1])\n",
    "            c2_actual_value.append(i[c2]['actual'][0][1])\n",
    "        except Exception as e:\n",
    "            print(f\"None value at {i}: {e}\")\n",
    "            \n",
    "    print(\"Country Value Without Dialogue Between England and German: \")\n",
    "    countries_value[c1] = [{\"pred\": np.mean(c1_prediction_value), \"actual\": np.mean(c1_actual_value)}]\n",
    "    countries_value[c2] = [{\"pred\": np.mean(c2_prediction_value), \"actual\": np.mean(c2_actual_value)}]\n",
    "    print(f\"{c1}: {countries_value[c1]}\")\n",
    "    print(f\"{c2}: {countries_value[c2]}\") "
   ]
  },
  {
   "cell_type": "code",
   "execution_count": 5,
   "metadata": {},
   "outputs": [
    {
     "name": "stdout",
     "output_type": "stream",
     "text": [
      "Country Value Without Dialogue Between England and German: \n",
      "England: [{'pred': 0.1460116996755231, 'actual': 0.14077467813352953}]\n",
      "Germany: [{'pred': 0.17857720209829353, 'actual': 0.17760936514794942}]\n"
     ]
    }
   ],
   "source": [
    "file_path = \"results/countries_value_end_of_previous_state.json\"\n",
    "get_country_value(file_path)"
   ]
  },
  {
   "cell_type": "code",
   "execution_count": 19,
   "metadata": {},
   "outputs": [
    {
     "name": "stdout",
     "output_type": "stream",
     "text": [
      "Country Value Without Dialogue Between England and German: \n",
      "England: [{'pred': 0.1460116996755231, 'actual': 0.14077467813352953}]\n",
      "Germany: [{'pred': 0.17857720209829353, 'actual': 0.17760936514794942}]\n"
     ]
    }
   ],
   "source": [
    "file_path = \"countries_value_whole_without_dialogue_without_movement_E_G.json\"\n",
    "get_country_value(file_path)"
   ]
  },
  {
   "cell_type": "code",
   "execution_count": null,
   "metadata": {},
   "outputs": [],
   "source": []
  }
 ],
 "metadata": {
  "kernelspec": {
   "display_name": "sotopia",
   "language": "python",
   "name": "python3"
  },
  "language_info": {
   "codemirror_mode": {
    "name": "ipython",
    "version": 3
   },
   "file_extension": ".py",
   "mimetype": "text/x-python",
   "name": "python",
   "nbconvert_exporter": "python",
   "pygments_lexer": "ipython3",
   "version": "3.11.9"
  }
 },
 "nbformat": 4,
 "nbformat_minor": 2
}
