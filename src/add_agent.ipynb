{
 "cells": [
  {
   "cell_type": "markdown",
   "metadata": {},
   "source": [
    "## Add Agents"
   ]
  },
  {
   "cell_type": "code",
   "execution_count": 2,
   "metadata": {},
   "outputs": [],
   "source": [
    "import random\n",
    "import sys\n",
    "sys.path.append('../')\n",
    "import os\n",
    "from sotopia.database.persistent_profile import AgentProfile\n",
    "from rich import print\n",
    "from typing import Any\n",
    "\n",
    "def add_agent_to_database(**kwargs: dict[str, Any]) -> None:\n",
    "    agent = AgentProfile(**kwargs)\n",
    "    agent.save()\n"
   ]
  },
  {
   "cell_type": "code",
   "execution_count": 4,
   "metadata": {},
   "outputs": [],
   "source": [
    "first_name = 'Emily' # @param {type:\"string\"}\n",
    "last_name = 'Carter' # @param {type:\"string\"}\n",
    "country = \"England\" # @param {type:\"string\"}\n",
    "goal = \"You are playing England in a game of Diplomacy. Your goal is to control 18 or more of the supply centers by the end of the game.\"\n",
    "\n",
    "\n",
    "add_agent_to_database(\n",
    "    first_name = first_name,\n",
    "    last_name = last_name,\n",
    "    country = country,\n",
    "    goal = goal\n",
    ")\n",
    "\n",
    "first_name = 'James' # @param {type:\"string\"}\n",
    "last_name = 'Anderson' # @param {type:\"string\"}\n",
    "country = \"Germany\" # @param {type:\"string\"}\n",
    "\n",
    "goal = \"You are playing Germany in a game of Diplomacy. Your goal is to control 18 or more of the supply centers by the end of the game.\"\n",
    "\n",
    "\n",
    "add_agent_to_database(\n",
    "    first_name = first_name,\n",
    "    last_name = last_name,\n",
    "    country = country,\n",
    "    goal = goal\n",
    ")\n",
    "\n",
    "first_name = 'Alex' # @param {type:\"string\"}\n",
    "last_name = 'Johnson' # @param {type:\"string\"}\n",
    "country = \"Austria\" # @param {type:\"string\"}\n",
    "goal = \"You are playing Austria in a game of Diplomacy. Your goal is to control 18 or more of the supply centers by the end of the game.\"\n",
    "\n",
    "\n",
    "add_agent_to_database(\n",
    "    first_name = first_name,\n",
    "    last_name = last_name,\n",
    "    country = country,\n",
    "    goal = goal\n",
    ")\n",
    "\n",
    "first_name = 'Sam' # @param {type:\"string\"}\n",
    "last_name = 'Parker' # @param {type:\"string\"}\n",
    "country = \"France\" # @param {type:\"string\"}\n",
    "\n",
    "goal = \"You are playing France in a game of Diplomacy. Your goal is to control 18 or more of the supply centers by the end of the game.\"\n",
    "\n",
    "\n",
    "add_agent_to_database(\n",
    "    first_name = first_name,\n",
    "    last_name = last_name,\n",
    "    country = country,\n",
    "    goal = goal\n",
    ")\n",
    "\n",
    "first_name = 'Mia' # @param {type:\"string\"}\n",
    "last_name = 'Collins' # @param {type:\"string\"}\n",
    "country = \"Italy\" # @param {type:\"string\"}\n",
    "\n",
    "goal = \"You are playing Italy in a game of Diplomacy. Your goal is to control 18 or more of the supply centers by the end of the game.\"\n",
    "\n",
    "\n",
    "add_agent_to_database(\n",
    "    first_name = first_name,\n",
    "    last_name = last_name,\n",
    "    country = country,\n",
    "    goal = goal\n",
    ")\n",
    "\n",
    "\n",
    "first_name = 'Max' # @param {type:\"string\"}\n",
    "last_name = 'Bennett' # @param {type:\"string\"}\n",
    "country = \"Russia\" # @param {type:\"string\"}\n",
    "\n",
    "goal = \"You are playing Russia in a game of Diplomacy. Your goal is to control 18 or more of the supply centers by the end of the game.\"\n",
    "\n",
    "\n",
    "add_agent_to_database(\n",
    "    first_name = first_name,\n",
    "    last_name = last_name,\n",
    "    country = country,\n",
    "    goal = goal\n",
    ")\n",
    "\n",
    "first_name = 'Zoe' # @param {type:\"string\"}\n",
    "last_name = 'Taylor' # @param {type:\"string\"}\n",
    "country = \"Turkey\" # @param {type:\"string\"}\n",
    "\n",
    "goal = \"You are playing Turkey in a game of Diplomacy. Your goal is to control 18 or more of the supply centers by the end of the game.\"\n",
    "\n",
    "\n",
    "add_agent_to_database(\n",
    "    first_name = first_name,\n",
    "    last_name = last_name,\n",
    "    country = country,\n",
    "    goal = goal\n",
    ")"
   ]
  },
  {
   "cell_type": "markdown",
   "metadata": {},
   "source": [
    "## Check Agents"
   ]
  },
  {
   "cell_type": "code",
   "execution_count": null,
   "metadata": {},
   "outputs": [],
   "source": [
    "all_character_pks = list(AgentProfile.all_pks())\n",
    "pk = random.choice(all_character_pks)\n",
    "for pk in all_character_pks:\n",
    "    print(AgentProfile.get(pk))"
   ]
  },
  {
   "cell_type": "code",
   "execution_count": null,
   "metadata": {},
   "outputs": [
    {
     "data": {
      "text/html": [
       "<pre style=\"white-space:pre;overflow-x:auto;line-height:normal;font-family:Menlo,'DejaVu Sans Mono',consolas,'Courier New',monospace\"><span style=\"color: #800080; text-decoration-color: #800080; font-weight: bold\">AgentProfile</span><span style=\"font-weight: bold\">(</span>\n",
       "    <span style=\"color: #808000; text-decoration-color: #808000\">pk</span>=<span style=\"color: #008000; text-decoration-color: #008000\">'01J1SY43GE78E1AQXJW1SSWR3F'</span>,\n",
       "    <span style=\"color: #808000; text-decoration-color: #808000\">first_name</span>=<span style=\"color: #008000; text-decoration-color: #008000\">'James'</span>,\n",
       "    <span style=\"color: #808000; text-decoration-color: #808000\">last_name</span>=<span style=\"color: #008000; text-decoration-color: #008000\">'Anderson'</span>,\n",
       "    <span style=\"color: #808000; text-decoration-color: #808000\">country</span>=<span style=\"color: #008000; text-decoration-color: #008000\">'Germany'</span>,\n",
       "    <span style=\"color: #808000; text-decoration-color: #808000\">goal</span>=<span style=\"color: #008000; text-decoration-color: #008000\">'You are playing Germany in a game of Diplomacy. Your goal is to control 18 or more of the supply centers </span>\n",
       "<span style=\"color: #008000; text-decoration-color: #008000\">by the end of the game.'</span>\n",
       "<span style=\"font-weight: bold\">)</span>\n",
       "</pre>\n"
      ],
      "text/plain": [
       "\u001b[1;35mAgentProfile\u001b[0m\u001b[1m(\u001b[0m\n",
       "    \u001b[33mpk\u001b[0m=\u001b[32m'01J1SY43GE78E1AQXJW1SSWR3F'\u001b[0m,\n",
       "    \u001b[33mfirst_name\u001b[0m=\u001b[32m'James'\u001b[0m,\n",
       "    \u001b[33mlast_name\u001b[0m=\u001b[32m'Anderson'\u001b[0m,\n",
       "    \u001b[33mcountry\u001b[0m=\u001b[32m'Germany'\u001b[0m,\n",
       "    \u001b[33mgoal\u001b[0m=\u001b[32m'You are playing Germany in a game of Diplomacy. Your goal is to control 18 or more of the supply centers \u001b[0m\n",
       "\u001b[32mby the end of the game.'\u001b[0m\n",
       "\u001b[1m)\u001b[0m\n"
      ]
     },
     "metadata": {},
     "output_type": "display_data"
    }
   ],
   "source": [
    "for pk in all_character_pks:\n",
    "    if AgentProfile.get(pk).country == \"Germany\":\n",
    "        print(AgentProfile.get(pk))"
   ]
  }
 ],
 "metadata": {
  "kernelspec": {
   "display_name": "sotopia",
   "language": "python",
   "name": "python3"
  },
  "language_info": {
   "codemirror_mode": {
    "name": "ipython",
    "version": 3
   },
   "file_extension": ".py",
   "mimetype": "text/x-python",
   "name": "python",
   "nbconvert_exporter": "python",
   "pygments_lexer": "ipython3",
   "version": "3.11.9"
  }
 },
 "nbformat": 4,
 "nbformat_minor": 2
}
