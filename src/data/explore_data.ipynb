{
 "cells": [
  {
   "cell_type": "code",
   "execution_count": 17,
   "metadata": {},
   "outputs": [],
   "source": [
    "import json\n",
    "import sys\n",
    "sys.path.append('../')\n",
    "import rich\n",
    "from evaluate_utils import parse_predicted_moves"
   ]
  },
  {
   "cell_type": "code",
   "execution_count": 8,
   "metadata": {},
   "outputs": [],
   "source": [
    "with open(\"intent_responses.json\", 'r') as f:\n",
    "    data = json.load(f)"
   ]
  },
  {
   "cell_type": "code",
   "execution_count": 24,
   "metadata": {},
   "outputs": [
    {
     "name": "stdout",
     "output_type": "stream",
     "text": [
      "F1903M\n",
      "ENGLAND: F BEL NTH; F ENG S F BEL NTH\n",
      "GERMANY: A BUR PAR; A KIE DEN; A MUN BUR; A PIC S A BUR PAR\n",
      "F1903R\n",
      "ENGLAND: \n",
      "GERMANY: \n",
      "W1903A\n",
      "ENGLAND: F LON B\n",
      "GERMANY: A BER B\n",
      "S1904M\n",
      "ENGLAND: A LVP YOR; F ENG MAO; F LON ENG; F NTH NWY\n",
      "GERMANY: A BER SIL; A BUR GAS; A DEN SWE; A PAR S A PIC BRE; A PIC BRE; F HOL NTH\n"
     ]
    }
   ],
   "source": [
    "print(data[0]['England']['text'])"
   ]
  },
  {
   "cell_type": "code",
   "execution_count": 30,
   "metadata": {},
   "outputs": [
    {
     "name": "stdout",
     "output_type": "stream",
     "text": [
      "A BUR PAR; A KIE DEN; A MUN BUR; A PIC S A BUR PAR\n"
     ]
    }
   ],
   "source": [
    "def get_orders(data, phase_name, country_name):\n",
    "    lines = data.split('\\n')\n",
    "    current_phase = ''\n",
    "    current_country = ''\n",
    "    result = ''\n",
    "\n",
    "    for line in lines:\n",
    "        line = line.strip()\n",
    "        if not line:\n",
    "            continue\n",
    "        \n",
    "        if ':' not in line:\n",
    "            current_phase = line\n",
    "            continue\n",
    "        \n",
    "        country, orders = line.split(':', 1)\n",
    "        current_country = country.strip()\n",
    "        \n",
    "        if current_phase == phase_name and current_country == country_name:\n",
    "            return orders.strip()\n",
    "    \n",
    "    return ''\n",
    "\n",
    "print(get_orders(data[0]['England']['text'], \"F1903M\", \"GERMANY\"))"
   ]
  },
  {
   "cell_type": "code",
   "execution_count": null,
   "metadata": {},
   "outputs": [],
   "source": [
    "parse_predicted_moves()"
   ]
  },
  {
   "cell_type": "code",
   "execution_count": 10,
   "metadata": {},
   "outputs": [],
   "source": [
    "game_path = \"/data/user_data/wenkail/sotopia_diplomacy/filter_games/1011.json\""
   ]
  },
  {
   "cell_type": "code",
   "execution_count": 11,
   "metadata": {},
   "outputs": [],
   "source": [
    "with open(game_path, 'r') as f:\n",
    "    game = json.load(f)"
   ]
  },
  {
   "cell_type": "code",
   "execution_count": 15,
   "metadata": {},
   "outputs": [
    {
     "name": "stdout",
     "output_type": "stream",
     "text": [
      "{'name': 'S1903M', 'state': {'timestamp': 1716555953295730, 'zobrist_hash': '8047134044165367647', 'note': '', 'name': 'S1903M', 'units': {'AUSTRIA': [], 'ENGLAND': ['F NTH', 'A NWY', 'F ENG', 'F MAO'], 'FRANCE': ['F BRE', 'A MAR', 'A PAR'], 'GERMANY': ['A MUN', 'A DEN', 'F BEL', 'A KIE', 'A BUR', 'A BER'], 'ITALY': ['A VEN', 'F WES', 'F ION', 'A TRI', 'F LYO', 'F NAP'], 'RUSSIA': ['A UKR', 'F RUM', 'F SWE', 'A STP', 'F SEV', 'A BUD', 'A WAR'], 'TURKEY': ['F BLA', 'A GRE', 'A SER', 'A BUL', 'F AEG', 'F ANK']}, 'retreats': {'AUSTRIA': {}, 'ENGLAND': {}, 'FRANCE': {}, 'GERMANY': {}, 'ITALY': {}, 'RUSSIA': {}, 'TURKEY': {}}, 'centers': {'AUSTRIA': [], 'ENGLAND': ['EDI', 'LON', 'LVP', 'NWY'], 'FRANCE': ['BRE', 'MAR', 'PAR'], 'GERMANY': ['BER', 'KIE', 'MUN', 'DEN', 'HOL', 'BEL'], 'ITALY': ['NAP', 'ROM', 'VEN', 'VIE', 'TUN', 'TRI'], 'RUSSIA': ['MOS', 'SEV', 'STP', 'WAR', 'RUM', 'SWE', 'BUD'], 'TURKEY': ['ANK', 'CON', 'SMY', 'BUL', 'GRE', 'SER']}, 'homes': {'AUSTRIA': ['BUD', 'TRI', 'VIE'], 'ENGLAND': ['EDI', 'LON', 'LVP'], 'FRANCE': ['BRE', 'MAR', 'PAR'], 'GERMANY': ['BER', 'KIE', 'MUN'], 'ITALY': ['NAP', 'ROM', 'VEN'], 'RUSSIA': ['MOS', 'SEV', 'STP', 'WAR'], 'TURKEY': ['ANK', 'CON', 'SMY']}, 'influence': {'AUSTRIA': ['BOH', 'ADR', 'ALB', 'TYR'], 'ENGLAND': ['EDI', 'LON', 'LVP', 'CLY', 'WAL', 'NWG', 'NTH', 'YOR', 'NAO', 'NWY', 'ENG', 'MAO'], 'FRANCE': ['BRE', 'MAR', 'PAR', 'GAS', 'PIC'], 'GERMANY': ['BER', 'MUN', 'SIL', 'PRU', 'HOL', 'DEN', 'BEL', 'RUH', 'KIE', 'BUR'], 'ITALY': ['NAP', 'ROM', 'PIE', 'TUS', 'APU', 'VEN', 'TUN', 'VIE', 'WES', 'TYS', 'ION', 'TRI', 'LYO'], 'RUSSIA': ['WAR', 'MOS', 'SEV', 'STP', 'LVN', 'FIN', 'GAL', 'UKR', 'BOT', 'RUM', 'SWE', 'BUD'], 'TURKEY': ['ANK', 'SMY', 'ARM', 'SYR', 'CON', 'BLA', 'GRE', 'SER', 'BUL', 'AEG']}, 'civil_disorder': {'AUSTRIA': 0, 'ENGLAND': 0, 'FRANCE': 0, 'GERMANY': 0, 'ITALY': 0, 'RUSSIA': 0, 'TURKEY': 0}, 'builds': {'AUSTRIA': {'count': 0, 'homes': []}, 'ENGLAND': {'count': 0, 'homes': []}, 'FRANCE': {'count': 0, 'homes': []}, 'GERMANY': {'count': 0, 'homes': []}, 'ITALY': {'count': 0, 'homes': []}, 'RUSSIA': {'count': 0, 'homes': []}, 'TURKEY': {'count': 0, 'homes': []}}, 'game_id': '1011', 'map': 'standard', 'rules': ['NO_PRESS', 'POWER_CHOICE', 'DONT_SKIP_PHASES']}, 'orders': {'AUSTRIA': [], 'ENGLAND': ['F NTH S A NWY', 'F ENG - BRE', 'A NWY H', 'F MAO - POR'], 'FRANCE': ['F BRE - ENG', 'A PAR - BUR', 'A MAR S A PAR - BUR'], 'GERMANY': ['A BER H', 'A BUR H', 'A KIE - RUH', 'A MUN S A BUR', 'A DEN H', 'F BEL - HOL'], 'ITALY': ['F NAP - ION', 'F LYO S F WES - SPA', 'F ION - EAS', 'F WES - SPA/SC', 'A VEN - PIE', 'A TRI H'], 'RUSSIA': ['A STP - NWY', 'F SEV S F RUM', 'F RUM H', 'A BUD S F RUM', 'F SWE H', 'A UKR S F RUM', 'A WAR - GAL'], 'TURKEY': ['F ANK - ARM', 'A BUL - RUM', 'F AEG S A GRE', 'A GRE S A SER', 'F BLA S F ANK - ARM', 'A SER S A BUL']}, 'results': {'F NTH': [], 'A NWY': [], 'F ENG': ['bounce'], 'F MAO': [], 'F BRE': ['bounce'], 'A MAR': [], 'A PAR': ['bounce'], 'A MUN': [], 'A DEN': [], 'F BEL': [], 'A KIE': [], 'A BUR': [], 'A BER': [], 'A VEN': [], 'F WES': [], 'F ION': [], 'A TRI': [], 'F LYO': [], 'F NAP': [], 'A UKR': [], 'F RUM': [], 'F SWE': [], 'A STP': ['bounce'], 'F SEV': [], 'A BUD': [], 'A WAR': [], 'F BLA': [], 'A GRE': [], 'A SER': ['void'], 'A BUL': ['bounce'], 'F AEG': [], 'F ANK': []}, 'messages': [{'sender': 'TURKEY', 'recipient': 'ITALY', 'time_sent': 433973, 'phase': 'S1903M', 'message': 'Hey Italy, now that Austria is gone, what is your plan?\\r'}, {'sender': 'TURKEY', 'recipient': 'RUSSIA', 'time_sent': 434006, 'phase': 'S1903M', 'message': \"What's your plan now that Austria is gone?\\r\"}, {'sender': 'ITALY', 'recipient': 'TURKEY', 'time_sent': 435295, 'phase': 'S1903M', 'message': 'My plan is to go for the south of France and Iberia. What is yours?\\r'}, {'sender': 'ITALY', 'recipient': 'RUSSIA', 'time_sent': 435859, 'phase': 'S1903M', 'message': \"Ok, so far so good. Where do we go from here? We both have two sc now, do you agree? I'll try to go to the eastern med, Im unsure if its good to attack Serbia yet, better do it in Autumn.\\nWhat are your plans?\\r\"}, {'sender': 'TURKEY', 'recipient': 'ITALY', 'time_sent': 437861, 'phase': 'S1903M', 'message': \"I don't know, I have to choose whether I go through you or Russia.\\r\"}, {'sender': 'RUSSIA', 'recipient': 'ITALY', 'time_sent': 438234, 'phase': 'S1903M', 'message': 'I will move Warsaw to Galicia. If you can get an army to Albania in the spring we (you) might take Serbia in the fall. But If Turkey moves Ank to Arm (and I think he will) most of my units will be tighed up in defense of Sevastopol and Rumania.\\r'}, {'sender': 'ITALY', 'recipient': 'RUSSIA', 'time_sent': 438549, 'phase': 'S1903M', 'message': \"Well I expect to get 1 or 2 builds attacking France this year, so I'm not in a hurry to move against Turkey, but I will try to go to the eastern med.\\r\"}, {'sender': 'RUSSIA', 'recipient': 'TURKEY', 'time_sent': 440138, 'phase': 'S1903M', 'message': \"Well. Germany and England are busy and I have all my units in the south. So I can attack You or Italy I guess. Or just defend myself. Last game (I played Russia then also) I was stabbed by Turkey so I'm very cautious, but if you stay out of Armenia and have a deal that keeps me safe I'm willing to listen.\\r\"}, {'sender': 'FRANCE', 'recipient': 'ENGLAND', 'time_sent': 440339, 'phase': 'S1903M', 'message': \"Think about helping me before Italy's fleets come round.\\r\"}, {'sender': 'RUSSIA', 'recipient': 'ITALY', 'time_sent': 443139, 'phase': 'S1903M', 'message': \"Yes that would give him trouble and change the balance. Things are looking good for you, but don't get to greedy. Once you take Spa and Mar we must go for Turkey. We don't want him in our backs when we have to face Germany and England.\\r\"}, {'sender': 'RUSSIA', 'recipient': 'ENGLAND', 'time_sent': 443514, 'phase': 'S1903M', 'message': 'I still think you should convoy Norway south. You can put him anywhere (even Portugal). I will attack Norway unsupported this time to, just in case.\\r'}, {'sender': 'TURKEY', 'recipient': 'RUSSIA', 'time_sent': 447226, 'phase': 'S1903M', 'message': 'Well, I have to attack either you or Italy. I was wondering if you wanted an alliance, or at least an non-aggression pact?\\r'}, {'sender': 'RUSSIA', 'recipient': 'TURKEY', 'time_sent': 511236, 'phase': 'S1903M', 'message': \"Let's go for a non-aggression pact. I will not move against you. But it would please me if you stayed out of Armenia.\\r\"}]}\n"
     ]
    }
   ],
   "source": [
    "for phase in game['phases']:\n",
    "    if phase['name'] == \"S1903M\":\n",
    "        print(phase)\n",
    "# game['phases']"
   ]
  },
  {
   "cell_type": "code",
   "execution_count": 34,
   "metadata": {},
   "outputs": [
    {
     "data": {
      "text/plain": [
       "{'AUSTRIA': [],\n",
       " 'ENGLAND': ['F NTH', 'A NWY', 'F POR', 'F BRE'],\n",
       " 'FRANCE': ['F MAO', 'A GAS', 'A PIC'],\n",
       " 'GERMANY': ['A MUN', 'A DEN', 'A BUR', 'A KIE', 'F HEL', 'A BEL'],\n",
       " 'ITALY': ['A TRI', 'F LYO', 'F SPA/SC', 'F EAS', 'F ION', 'A MAR'],\n",
       " 'RUSSIA': ['A UKR', 'F RUM', 'F SWE', 'A STP', 'F SEV', 'A BUD', 'A GAL'],\n",
       " 'TURKEY': ['A GRE', 'A SER', 'A BUL', 'F AEG', 'F CON', 'F BLA']}"
      ]
     },
     "execution_count": 34,
     "metadata": {},
     "output_type": "execute_result"
    }
   ],
   "source": [
    "game['phases'][3]['state']['units']"
   ]
  },
  {
   "cell_type": "code",
   "execution_count": null,
   "metadata": {},
   "outputs": [],
   "source": []
  }
 ],
 "metadata": {
  "kernelspec": {
   "display_name": "lf",
   "language": "python",
   "name": "python3"
  },
  "language_info": {
   "codemirror_mode": {
    "name": "ipython",
    "version": 3
   },
   "file_extension": ".py",
   "mimetype": "text/x-python",
   "name": "python",
   "nbconvert_exporter": "python",
   "pygments_lexer": "ipython3",
   "version": "3.7.16"
  }
 },
 "nbformat": 4,
 "nbformat_minor": 2
}
