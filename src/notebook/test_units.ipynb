{
 "cells": [
  {
   "cell_type": "code",
   "execution_count": 1,
   "metadata": {},
   "outputs": [],
   "source": [
    "import sys\n",
    "sys.path.append(\"../../../diplomacy_cicero\")\n",
    "from fairdiplomacy.agents import plausible_order_sampling as sampler\n",
    "import fairdiplomacy\n",
    "import fairdiplomacy.agents as agents\n",
    "from conf import agents_cfgs\n",
    "from fairdiplomacy.agents.base_strategy_model_wrapper import BaseStrategyModelWrapper\n",
    "from types import SimpleNamespace\n",
    "from omegaconf import OmegaConf\n",
    "from typing import Any, Dict\n",
    "import rich\n",
    "import os\n",
    "from parlai.core.opt import Opt\n",
    "from parlai.core.agents import create_agent\n",
    "from fairdiplomacy.agents.base_strategy_model_wrapper import BaseStrategyModelWrapper\n",
    "from fairdiplomacy import pydipcc\n",
    "import sys\n",
    "import json\n",
    "import inspect\n"
   ]
  },
  {
   "cell_type": "code",
   "execution_count": 2,
   "metadata": {},
   "outputs": [],
   "source": [
    "game_dir = \"/data/user_data/wenkail/sotopia_diplomacy/filter_games/\"\n",
    "dir_path = \"/data/user_data/wenkail/\"\n",
    "game_file_path = game_dir + \"8132.json\"\n",
    "value_model = BaseStrategyModelWrapper(dir_path + \"models/rl_value_function.ckpt\")\n",
    "pydipcc_game = pydipcc.Game.from_json(open(game_file_path, 'r').read())"
   ]
  },
  {
   "cell_type": "code",
   "execution_count": 3,
   "metadata": {},
   "outputs": [],
   "source": [
    "# DEFAULT_CFG = dict(\n",
    "#         base_searchbot_cfg=dict(\n",
    "#             model_path=\"MOCK\",\n",
    "#             n_rollouts=10,\n",
    "#             device=-1,\n",
    "#             use_final_iter=0,\n",
    "#             rollouts_cfg=dict(max_rollout_length=0,),\n",
    "#             plausible_orders_cfg=dict(n_plausible_orders=10, batch_size=10, req_size=10, max_actions_units_ratio=6.0,),\n",
    "#             qre=dict(eta=10.0, target_pi=\"BLUEPRINT\"),\n",
    "#             ),\n",
    "#         num_player_types=5,\n",
    "#         lambda_min=1e-30,\n",
    "#         lambda_multiplier=1e5,\n",
    "#         agent_type=1,)\n",
    "DEFAULT_CFG: Dict[str, Any] = dict(\n",
    "    model_path=\"MOCK\",\n",
    "    n_rollouts=10,\n",
    "    device=-1,\n",
    "    use_final_iter=0,\n",
    "    rollouts_cfg=dict(max_rollout_length=0,),\n",
    "    plausible_orders_cfg=dict(n_plausible_orders=10, batch_size=10, req_size=10,),\n",
    ")\n",
    "\n",
    "cfg = agents_cfgs.SearchBotAgent(**DEFAULT_CFG)\n",
    "base_strategy = BaseStrategyModelWrapper(\"/data/user_data/wenkail/models/base_strategy_model_0_5_policy.ckpt\")\n",
    "order_sampler = sampler.PlausibleOrderSampler(\n",
    "    # cfg.base_searchbot_cfg.plausible_orders_cfg,\n",
    "    cfg.plausible_orders_cfg,\n",
    "    base_strategy_model=base_strategy\n",
    ")\n",
    "plausible_moves = order_sampler.sample_orders(pydipcc_game, agent_power=\"GERMANY\", extra_plausible_orders=None) \n",
    "# dict of form: {country: {(moves): p(moves)}"
   ]
  },
  {
   "cell_type": "code",
   "execution_count": 4,
   "metadata": {},
   "outputs": [
    {
     "data": {
      "text/plain": [
       "{('A DEN H',\n",
       "  'F HOL S A RUH - BEL',\n",
       "  'A RUH - BEL',\n",
       "  'A KIE - RUH',\n",
       "  'A MUN S A KIE - RUH'): 0.3360800122212292,\n",
       " ('A DEN H',\n",
       "  'F HOL H',\n",
       "  'A RUH - BUR',\n",
       "  'A KIE - RUH',\n",
       "  'A MUN S A RUH - BUR'): 0.2313929034055386,\n",
       " ('A DEN H',\n",
       "  'F HOL - BEL',\n",
       "  'A RUH S F HOL - BEL',\n",
       "  'A KIE - HOL',\n",
       "  'A MUN - BUR'): 0.16468396661134532,\n",
       " ('A DEN H',\n",
       "  'F HOL H',\n",
       "  'A RUH - BUR',\n",
       "  'A KIE S F HOL',\n",
       "  'A MUN S A RUH - BUR'): 0.15760217490515926,\n",
       " ('A DEN H',\n",
       "  'F HOL S A BEL',\n",
       "  'A RUH - BUR',\n",
       "  'A KIE - RUH',\n",
       "  'A MUN S A RUH - BUR'): 0.04400349748388141,\n",
       " ('A DEN H',\n",
       "  'F HOL - BEL',\n",
       "  'A RUH S F HOL - BEL',\n",
       "  'A KIE - HOL',\n",
       "  'A MUN H'): 0.03483166892409662,\n",
       " ('A DEN H',\n",
       "  'F HOL S A BEL',\n",
       "  'A RUH S A MUN - BUR',\n",
       "  'A KIE S F HOL',\n",
       "  'A MUN - BUR'): 0.03079793579461182,\n",
       " ('A DEN - SWE',\n",
       "  'F HOL S A RUH - BEL',\n",
       "  'A RUH - BEL',\n",
       "  'A KIE H',\n",
       "  'A MUN H'): 0.0006078406541377909}"
      ]
     },
     "execution_count": 4,
     "metadata": {},
     "output_type": "execute_result"
    }
   ],
   "source": [
    "plausible_moves['GERMANY']"
   ]
  }
 ],
 "metadata": {
  "kernelspec": {
   "display_name": "diplomacy_cicero",
   "language": "python",
   "name": "python3"
  },
  "language_info": {
   "codemirror_mode": {
    "name": "ipython",
    "version": 3
   },
   "file_extension": ".py",
   "mimetype": "text/x-python",
   "name": "python",
   "nbconvert_exporter": "python",
   "pygments_lexer": "ipython3",
   "version": "3.7.16"
  }
 },
 "nbformat": 4,
 "nbformat_minor": 2
}
