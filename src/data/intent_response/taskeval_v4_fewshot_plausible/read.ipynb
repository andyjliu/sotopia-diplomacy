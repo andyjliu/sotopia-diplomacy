{
 "cells": [
  {
   "cell_type": "code",
   "execution_count": 1,
   "metadata": {},
   "outputs": [],
   "source": [
    "import json"
   ]
  },
  {
   "cell_type": "code",
   "execution_count": 12,
   "metadata": {},
   "outputs": [
    {
     "name": "stdout",
     "output_type": "stream",
     "text": [
      "Error on line 1174: Expecting ':' delimiter: line 1 column 136 (char 135)\n",
      "Faulty line: {\"game_id\": \"82712\", \"phase_name\": \"F1903M\", \"env_uuid\": \"01J8S3SK82EHN5B6J1MSGV1XNF\", \"countries\": [\"Turkey\", \"Italy\"], \"Turkey_units\"{\"game_id\": \"38101\", \"phase_name\": \"S1904M\", \"env_uuid\": \"01J8S3SGBZVR5FWVHR69Y65X9T\", \"countries\": [\"France\", \"Italy\"], \"France_units\": \"F MAO, A BEL, A BUR, A PAR, A PIE, F LYO\", \"Italy_units\": \"A VEN, F EAS, F ION, A SYR\", \"France_response\": {\"id\": \"Bart\", \"episode_done\": false, \"text\": \"S1904M\\nFRANCE: A BEL S A BUR RUH; A BUR RUH; A PAR BUR; A PIE TYR; F MAO WES; F LYO TYS\\nFRANCE: A BEL S A BUR RUH; A BUR RUH; A PAR BUR; A PIE TYR; F MAO WES; F LYO TYS\\nS1904R\\nFRANCE: \\nFRANCE: \\nF1904M\\nFRANCE: A BEL S A RUH HOL; A BUR MUN; A RUH HOL; A TYR S A BUR MUN; F TYS TUN; F WES S F TYS TUN\\nFRANCE: A BEL S A RUH HOL; A BUR MUN; A RUH HOL; A TYR S A BUR MUN; F TYS TUN; F WES S F TYS TUN\", \"beam_texts\": [[\"S1904M\\nFRANCE: A BEL S A BUR RUH; A BUR RUH; A PAR BUR; A PIE TYR; F MAO WES; F LYO TYS\\nFRANCE: A BEL S A BUR RUH; A BUR RUH; A PAR BUR; A PIE TYR; F MAO WES; F LYO TYS\\nS1904R\\nFRANCE: \\nFRANCE: \\nF1904M\\nFRANCE: A BEL S A RUH HOL; A BUR MUN; A RUH HOL; A TYR S A BUR MUN; F TYS TUN; F WES S F TYS TUN\\nFRANCE: A BEL S A RUH HOL; A BUR MUN; A RUH HOL; A TYR S A BUR MUN; F TYS TUN; F WES S F TYS TUN\", -0.2522552013397217]]}, \"Italy_response\": {\"id\": \"Bart\", \"episode_done\": false, \"text\": \"S1904M\\nITALY: A VEN S A PIE TYR; A SYR ALB VIA; F EAS C A SYR ALB; F ION C A SYR ALB; F NAP TYS\\nFRANCE: A BEL S A BUR RUH; A BUR RUH; A PAR BUR; A PIE TYR; F MAO WES; F LYO TYS\\nS1904R\\nITALY: \\nFRANCE: \\nF1904M\\nITALY: A ALB GRE; A VEN TRI; F EAS AEG; F ION S A ALB GRE; F TYS TUN\\nFRANCE: A BEL S A RUH; A BUR MUN; A RUH S A BUR MUN; A TYR S A BUR MUN; F TYS ION; F WES TYS\", \"beam_texts\": [[\"S1904M\\nITALY: A VEN S A PIE TYR; A SYR ALB VIA; F EAS C A SYR ALB; F ION C A SYR ALB; F NAP TYS\\nFRANCE: A BEL S A BUR RUH; A BUR RUH; A PAR BUR; A PIE TYR; F MAO WES; F LYO TYS\\nS1904R\\nITALY: \\nFRANCE: \\nF1904M\\nITALY: A ALB GRE; A VEN TRI; F EAS AEG; F ION S A ALB GRE; F TYS TUN\\nFRANCE: A BEL S A RUH; A BUR MUN; A RUH S A BUR MUN; A TYR S A BUR MUN; F TYS ION; F WES TYS\", -0.2825789153575897]]}, \"intent_dialogue\": \"0 ITALY -> FRANCE: Eh, alright. Fair enough. Yeah, I figured you had an explanation, just wasn't sure what it was. I'm not sure I'm willing to support you to Tyrolia to be honest. If I can stay on Austria's good side, that would be great.\\r\\n1 FRANCE -> ITALY: You can tell Austria that you want to stay on my good side.\\n\\nAnd I'd be a little worried about Austria myself if I were you. It definitely looks like A and T are working together against Russia. Now that you are breathing down Turkey's neck, something might give.\\n\\nIt wouldn't hurt to have a little insurance. If you help me into Tyrolia I could support you to Trieste in Fall if it turns out that's what you want to do.\\n\\nWhat do you think?\\r\\n2 ITALY -> FRANCE: I don't really know what to do at this point. I'm not going to get very far in Turkey, and I'm doubting I would even get into Trieste if that were the case. Do you have any suggestions? Because at this point I am sitting here doing absolutely nothing.\\r\\n3 FRANCE -> ITALY: Ah the perils of playing Italy!\\n\\nI guess it comes down to whether you think Austria is on your side or not.\\n\\nIf you think he is, then keep putting the pressure on Turkey, and pressure Austria to attack Turkey, and help you.\\n\\nOn the other hand, if you think Austria is against you, or, most likely, just using you until he finds it convenient, then you could attack him pretty effectively with Syria - Albania, and supporting me to Tyrolia. Turkey would probably be quite relieved. And, just in case, you'd still have the option to go after Greece and stick with Austria.\\r\\n4 ITALY -> FRANCE: I'll see how the next turn goes. I do think Austria is being truthful. I spoke to Turkey, but I doubt they'll get a chance to respond before the turn is up.\\r\\n\"}\n",
      "Line 1172: {\"game_id\": \"107354\", \"phase_name\": \"S1903M\", \"env_uuid\": \"01J8S3SH3QP39P077QT1A7VN2H\", \"countries\": [\"France\", \"Italy\"], \"France_units\": \"A MAR, A SPA, A BUR, F WES, F BRE\", \"Italy_units\": \"A VEN, F TUN, A PIE, F ION\", \"France_response\": {\"id\": \"Bart\", \"episode_done\": false, \"text\": \"S1903M\\nTURKEY: A ANK S F CON; A SMY S F CON; F BLA S A BUL; F CON S A SMY\\nITALY: A APU SYR VIA; A BUL S A RUM; A PIE MAR; F AEG S A BUL; F EAS C A APU SYR; F ION C A APU SYR\\nS1903R\\nTURKEY: \\nITALY: \\nF1903M\\nTURKEY: A ANK S F CON; A SMY S F CON; F BLA S A BUL; F CON S A SMY\\nITALY: A BUL S A RUM; A MAR BUR; A SYR SMY; F AEG S A SYR SMY; F EAS S A SYR SMY; F ION TYS\", \"beam_texts\": [[\"S1903M\\nTURKEY: A ANK S F CON; A SMY S F CON; F BLA S A BUL; F CON S A SMY\\nITALY: A APU SYR VIA; A BUL S A RUM; A PIE MAR; F AEG S A BUL; F EAS C A APU SYR; F ION C A APU SYR\\nS1903R\\nTURKEY: \\nITALY: \\nF1903M\\nTURKEY: A ANK S F CON; A SMY S F CON; F BLA S A BUL; F CON S A SMY\\nITALY: A BUL S A RUM; A MAR BUR; A SYR SMY; F AEG S A SYR SMY; F EAS S A SYR SMY; F ION TYS\", -0.6198273301124573]]}, \"Italy_response\": {\"id\": \"Bart\", \"episode_done\": false, \"text\": \"S1903M\\nFRANCE: A MAR BUR; A BUR RUH; A SPA GAS; F BRE ENG; F WES MAO\\nITALY: A APU SYR VIA; A BUL S A RUM; A PIE TYR; F AEG S A BUL; F EAS C A APU SYR; F ION C A APU SYR\\nS1903R\\nFRANCE: \\nITALY: \\nF1903M\\nFRANCE: A BUR MUN; A GAS BUR; A RUH S A BUR MUN; F ENG S F LON NTH; F MAO NAO\\nITALY: A BUL S A RUM; A SYR SMY; A TYR MUN; F AEG S A SYR SMY; F EAS S A SYR SMY; F ION TYS\", \"beam_texts\": [[\"S1903M\\nFRANCE: A MAR BUR; A BUR RUH; A SPA GAS; F BRE ENG; F WES MAO\\nITALY: A APU SYR VIA; A BUL S A RUM; A PIE TYR; F AEG S A BUL; F EAS C A APU SYR; F ION C A APU SYR\\nS1903R\\nFRANCE: \\nITALY: \\nF1903M\\nFRANCE: A BUR MUN; A GAS BUR; A RUH S A BUR MUN; F ENG S F LON NTH; F MAO NAO\\nITALY: A BUL S A RUM; A SYR SMY; A TYR MUN; F AEG S A SYR SMY; F EAS S A SYR SMY; F ION TYS\", -0.5167415738105774]]}, \"intent_dialogue\": \"0 ITALY -> FRANCE: weekend is such a busy time - add in the st patrick's day nonsense...sheesh. ~N~ ~N~ yea ill attack germany for this stupid idea of attacking you he had and completely dicking me over on that. last time i ever listen to anybody else's advice :P\\r\\n1 FRANCE -> ITALY: ok :-) if you move to tyrolia, i will support you to munich in autumn\\r\\n2 FRANCE -> ITALY: i was lucky to get munich, but my offer is still valid. i can support you with burgundy, and try berlin or kiel with my army there. tell me what you think...\\r\\n3 ITALY -> FRANCE: just support me in from tyrolia and ill be happy :)\\r\\n\"}\n",
      "Line 1173: {\"game_id\": \"38101\", \"phase_name\": \"F1903M\", \"env_uuid\": \"01J8S3SGB9XQYZN7XPJNK4X3FY\", \"countries\": [\"France\", \"Turkey\"], \"France_units\": \"F MAO, A BEL, A BUR, A PAR, A MAR, F SPA/SC\", \"Turkey_units\": \"A CON, F BLA, A RUM, F GRE\", \"France_response\": {\"id\": \"Bart\", \"episode_done\": false, \"text\": \"F1903M\\nFRANCE: A BEL S A BUR RUH; A BUR RUH; A MAR BUR; A PAR PIC; F BRE ENG; F WES MAO\\nITALY: A BUL S A RUM; A PIE MAR; F EAS SMY; F ION TYS\\nF1903R\\nFRANCE: \\nITALY: \\nW1903A\\nFRANCE: A MAR D\\nITALY: \\nS1904M\\nFRANCE: A BUR BEL; A PIC S A BUR BEL; A RUH HOL; F ENG S A BUR BEL; F MAO IRI\\nITALY: A BUL S A RUM; A PIE MAR; F EAS SMY; F TYS LYO\", \"beam_texts\": [[\"F1903M\\nFRANCE: A BEL S A BUR RUH; A BUR RUH; A MAR BUR; A PAR PIC; F BRE ENG; F WES MAO\\nITALY: A BUL S A RUM; A PIE MAR; F EAS SMY; F ION TYS\\nF1903R\\nFRANCE: \\nITALY: \\nW1903A\\nFRANCE: A MAR D\\nITALY: \\nS1904M\\nFRANCE: A BUR BEL; A PIC S A BUR BEL; A RUH HOL; F ENG S A BUR BEL; F MAO IRI\\nITALY: A BUL S A RUM; A PIE MAR; F EAS SMY; F TYS LYO\", -0.6279270648956299]]}, \"Turkey_response\": {\"id\": \"Bart\", \"episode_done\": false, \"text\": \"F1903M\\nFRANCE: A BEL S A BUR RUH; A BUR RUH; A MAR S A PAR BUR; A PAR BUR; F BRE ENG; F SPA/SC MAO\\nTURKEY: A CON S F EAS SMY; A RUM S A BUL; F BLA S A RUM; F GRE S A BUL\\nF1904R\\nFRANCE: \\nTURKEY: \\nW1904A\\nFRANCE: A MAR D\\nTURKEY: \\nS1905M\\nFRANCE: A BEL S A RUH HOL; A BUR MUN; A RUH HOL; F BRE ENG; F MAO IRI\\nTURKEY: A CON S F SMY; A RUM S A BUL; F BLA S A RUM; F GRE S A BUL\", \"beam_texts\": [[\"F1903M\\nFRANCE: A BEL S A BUR RUH; A BUR RUH; A MAR S A PAR BUR; A PAR BUR; F BRE ENG; F SPA/SC MAO\\nTURKEY: A CON S F EAS SMY; A RUM S A BUL; F BLA S A RUM; F GRE S A BUL\\nF1904R\\nFRANCE: \\nTURKEY: \\nW1904A\\nFRANCE: A MAR D\\nTURKEY: \\nS1905M\\nFRANCE: A BEL S A RUH HOL; A BUR MUN; A RUH HOL; F BRE ENG; F MAO IRI\\nTURKEY: A CON S F SMY; A RUM S A BUL; F BLA S A RUM; F GRE S A BUL\", -0.6337054967880249]]}, \"intent_dialogue\": \"0 FRANCE -> TURKEY: whoa! what's going on over there? was the greece/bulgaria swap planned or a double stab?\\r\\n1 TURKEY -> FRANCE: A little of both I think. In some ways I'm a bit more concerned about Italy though.\\r\\n2 FRANCE -> TURKEY: Italy is not quite so ambiguous\\r\\n\"}\n",
      "Line 1174: {\"game_id\": \"82712\", \"phase_name\": \"F1903M\", \"env_uuid\": \"01J8S3SK82EHN5B6J1MSGV1XNF\", \"countries\": [\"Turkey\", \"Italy\"], \"Turkey_units\"{\"game_id\": \"38101\", \"phase_name\": \"S1904M\", \"env_uuid\": \"01J8S3SGBZVR5FWVHR69Y65X9T\", \"countries\": [\"France\", \"Italy\"], \"France_units\": \"F MAO, A BEL, A BUR, A PAR, A PIE, F LYO\", \"Italy_units\": \"A VEN, F EAS, F ION, A SYR\", \"France_response\": {\"id\": \"Bart\", \"episode_done\": false, \"text\": \"S1904M\\nFRANCE: A BEL S A BUR RUH; A BUR RUH; A PAR BUR; A PIE TYR; F MAO WES; F LYO TYS\\nFRANCE: A BEL S A BUR RUH; A BUR RUH; A PAR BUR; A PIE TYR; F MAO WES; F LYO TYS\\nS1904R\\nFRANCE: \\nFRANCE: \\nF1904M\\nFRANCE: A BEL S A RUH HOL; A BUR MUN; A RUH HOL; A TYR S A BUR MUN; F TYS TUN; F WES S F TYS TUN\\nFRANCE: A BEL S A RUH HOL; A BUR MUN; A RUH HOL; A TYR S A BUR MUN; F TYS TUN; F WES S F TYS TUN\", \"beam_texts\": [[\"S1904M\\nFRANCE: A BEL S A BUR RUH; A BUR RUH; A PAR BUR; A PIE TYR; F MAO WES; F LYO TYS\\nFRANCE: A BEL S A BUR RUH; A BUR RUH; A PAR BUR; A PIE TYR; F MAO WES; F LYO TYS\\nS1904R\\nFRANCE: \\nFRANCE: \\nF1904M\\nFRANCE: A BEL S A RUH HOL; A BUR MUN; A RUH HOL; A TYR S A BUR MUN; F TYS TUN; F WES S F TYS TUN\\nFRANCE: A BEL S A RUH HOL; A BUR MUN; A RUH HOL; A TYR S A BUR MUN; F TYS TUN; F WES S F TYS TUN\", -0.2522552013397217]]}, \"Italy_response\": {\"id\": \"Bart\", \"episode_done\": false, \"text\": \"S1904M\\nITALY: A VEN S A PIE TYR; A SYR ALB VIA; F EAS C A SYR ALB; F ION C A SYR ALB; F NAP TYS\\nFRANCE: A BEL S A BUR RUH; A BUR RUH; A PAR BUR; A PIE TYR; F MAO WES; F LYO TYS\\nS1904R\\nITALY: \\nFRANCE: \\nF1904M\\nITALY: A ALB GRE; A VEN TRI; F EAS AEG; F ION S A ALB GRE; F TYS TUN\\nFRANCE: A BEL S A RUH; A BUR MUN; A RUH S A BUR MUN; A TYR S A BUR MUN; F TYS ION; F WES TYS\", \"beam_texts\": [[\"S1904M\\nITALY: A VEN S A PIE TYR; A SYR ALB VIA; F EAS C A SYR ALB; F ION C A SYR ALB; F NAP TYS\\nFRANCE: A BEL S A BUR RUH; A BUR RUH; A PAR BUR; A PIE TYR; F MAO WES; F LYO TYS\\nS1904R\\nITALY: \\nFRANCE: \\nF1904M\\nITALY: A ALB GRE; A VEN TRI; F EAS AEG; F ION S A ALB GRE; F TYS TUN\\nFRANCE: A BEL S A RUH; A BUR MUN; A RUH S A BUR MUN; A TYR S A BUR MUN; F TYS ION; F WES TYS\", -0.2825789153575897]]}, \"intent_dialogue\": \"0 ITALY -> FRANCE: Eh, alright. Fair enough. Yeah, I figured you had an explanation, just wasn't sure what it was. I'm not sure I'm willing to support you to Tyrolia to be honest. If I can stay on Austria's good side, that would be great.\\r\\n1 FRANCE -> ITALY: You can tell Austria that you want to stay on my good side.\\n\\nAnd I'd be a little worried about Austria myself if I were you. It definitely looks like A and T are working together against Russia. Now that you are breathing down Turkey's neck, something might give.\\n\\nIt wouldn't hurt to have a little insurance. If you help me into Tyrolia I could support you to Trieste in Fall if it turns out that's what you want to do.\\n\\nWhat do you think?\\r\\n2 ITALY -> FRANCE: I don't really know what to do at this point. I'm not going to get very far in Turkey, and I'm doubting I would even get into Trieste if that were the case. Do you have any suggestions? Because at this point I am sitting here doing absolutely nothing.\\r\\n3 FRANCE -> ITALY: Ah the perils of playing Italy!\\n\\nI guess it comes down to whether you think Austria is on your side or not.\\n\\nIf you think he is, then keep putting the pressure on Turkey, and pressure Austria to attack Turkey, and help you.\\n\\nOn the other hand, if you think Austria is against you, or, most likely, just using you until he finds it convenient, then you could attack him pretty effectively with Syria - Albania, and supporting me to Tyrolia. Turkey would probably be quite relieved. And, just in case, you'd still have the option to go after Greece and stick with Austria.\\r\\n4 ITALY -> FRANCE: I'll see how the next turn goes. I do think Austria is being truthful. I spoke to Turkey, but I doubt they'll get a chance to respond before the turn is up.\\r\\n\"}\n"
     ]
    }
   ],
   "source": [
    "intent_response = []\n",
    "with open(\"taskeval_actual_movement.jsonl\", 'r') as f:\n",
    "    line_number = 0\n",
    "    try:\n",
    "        for line in f:\n",
    "            line_number += 1\n",
    "            intent_response.append(json.loads(line))\n",
    "    except json.JSONDecodeError as e:\n",
    "        print(f\"Error on line {line_number}: {str(e)}\")\n",
    "        print(\"Faulty line:\", line.strip())\n",
    "        # Optionally print a few lines before the error\n",
    "        f.seek(0)\n",
    "        for i, prev_line in enumerate(f):\n",
    "            if i >= line_number - 3 and i < line_number:\n",
    "                print(f\"Line {i+1}: {prev_line.strip()}\")"
   ]
  },
  {
   "cell_type": "code",
   "execution_count": null,
   "metadata": {},
   "outputs": [],
   "source": []
  }
 ],
 "metadata": {
  "kernelspec": {
   "display_name": "sotopia",
   "language": "python",
   "name": "python3"
  },
  "language_info": {
   "codemirror_mode": {
    "name": "ipython",
    "version": 3
   },
   "file_extension": ".py",
   "mimetype": "text/x-python",
   "name": "python",
   "nbconvert_exporter": "python",
   "pygments_lexer": "ipython3",
   "version": "3.11.9"
  }
 },
 "nbformat": 4,
 "nbformat_minor": 2
}
