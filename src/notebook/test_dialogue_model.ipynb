{
 "cells": [
  {
   "cell_type": "code",
   "execution_count": 21,
   "metadata": {},
   "outputs": [],
   "source": [
    "import sys\n",
    "import rich\n",
    "import os\n",
    "sys.path.append(\"/home/wenkail/diplomacy/diplomacy_cicero\")\n",
    "from parlai.core.opt import Opt\n",
    "from parlai.core.agents import create_agent\n",
    "import re\n",
    "from typing import Optional\n",
    "from parlai_diplomacy.wrappers.dialogue import BaseDialogueWrapper"
   ]
  },
  {
   "cell_type": "code",
   "execution_count": 22,
   "metadata": {},
   "outputs": [],
   "source": [
    "def load_dialogue_model(\n",
    "    model_dir: str,\n",
    "    model_name: str = \"dialogue.opt\",\n",
    "    verbose: bool = True\n",
    ") -> Optional[BaseDialogueWrapper]:\n",
    "    \"\"\"\n",
    "    Load a dialogue model from the specified directory.\n",
    "    \n",
    "    Args:\n",
    "        model_dir: Directory containing the model files\n",
    "        model_name: Name of the .opt file (default: dialogue.opt)\n",
    "        verbose: Whether to print loading information\n",
    "    \n",
    "    Returns:\n",
    "        BaseDialogueWrapper instance or None if loading fails\n",
    "    \"\"\"\n",
    "    try:\n",
    "        # Ensure model directory exists\n",
    "        if not os.path.exists(model_dir):\n",
    "            raise FileNotFoundError(f\"Model directory not found: {model_dir}\")\n",
    "            \n",
    "        # Construct full path to opt file\n",
    "        dialogue_model_path = os.path.join(model_dir, model_name)\n",
    "        if verbose:\n",
    "            print(f\"Loading model from: {dialogue_model_path}\")\n",
    "            \n",
    "        # Load the opt file\n",
    "        dialogue_model_opt = Opt.load_init(dialogue_model_path)\n",
    "        \n",
    "        # Update paths to be relative to model directory\n",
    "        dialogue_model_opt['model_file'] = os.path.join(model_dir, dialogue_model_opt['model_file'])\n",
    "        dialogue_model_opt['dict_file'] = os.path.join(model_dir, dialogue_model_opt['dict_file'])\n",
    "        \n",
    "        # Ensure required files exist\n",
    "        if not os.path.exists(dialogue_model_opt['model_file']):\n",
    "            raise FileNotFoundError(f\"Model file not found: {dialogue_model_opt['model_file']}\")\n",
    "        if not os.path.exists(dialogue_model_opt['dict_file']):\n",
    "            raise FileNotFoundError(f\"Dictionary file not found: {dialogue_model_opt['dict_file']}\")\n",
    "            \n",
    "        # Initialize the dialogue wrapper\n",
    "        dialogue_agent = BaseDialogueWrapper(dialogue_model_opt)\n",
    "        \n",
    "        if verbose:\n",
    "            print(\"Model loaded successfully!\")\n",
    "            print(f\"Model file: {dialogue_model_opt['model_file']}\")\n",
    "            print(f\"Dict file: {dialogue_model_opt['dict_file']}\")\n",
    "            \n",
    "        return dialogue_agent\n",
    "        \n",
    "    except Exception as e:\n",
    "        print(f\"Error loading dialogue model: {str(e)}\")\n",
    "        return None"
   ]
  },
  {
   "cell_type": "code",
   "execution_count": 30,
   "metadata": {},
   "outputs": [
    {
     "ename": "AttributeError",
     "evalue": "'NoneType' object has no attribute 'get'",
     "output_type": "error",
     "traceback": [
      "\u001b[0;31m---------------------------------------------------------------------------\u001b[0m",
      "\u001b[0;31mAttributeError\u001b[0m                            Traceback (most recent call last)",
      "\u001b[0;32m/tmp/ipykernel_741892/1870553534.py\u001b[0m in \u001b[0;36m<module>\u001b[0;34m\u001b[0m\n\u001b[1;32m      4\u001b[0m \u001b[0mdialogue_model_opt\u001b[0m\u001b[0;34m[\u001b[0m\u001b[0;34m'model_file'\u001b[0m\u001b[0;34m]\u001b[0m \u001b[0;34m=\u001b[0m \u001b[0mdir\u001b[0m \u001b[0;34m+\u001b[0m \u001b[0mdialogue_model_opt\u001b[0m\u001b[0;34m[\u001b[0m\u001b[0;34m'model_file'\u001b[0m\u001b[0;34m]\u001b[0m \u001b[0;34m+\u001b[0m \u001b[0;34m\".opt\"\u001b[0m\u001b[0;34m\u001b[0m\u001b[0;34m\u001b[0m\u001b[0m\n\u001b[1;32m      5\u001b[0m \u001b[0mdialogue_model_opt\u001b[0m\u001b[0;34m[\u001b[0m\u001b[0;34m'dict_file'\u001b[0m\u001b[0;34m]\u001b[0m \u001b[0;34m=\u001b[0m \u001b[0mdir\u001b[0m \u001b[0;34m+\u001b[0m \u001b[0mdialogue_model_opt\u001b[0m\u001b[0;34m[\u001b[0m\u001b[0;34m'dict_file'\u001b[0m\u001b[0;34m]\u001b[0m \u001b[0;34m+\u001b[0m \u001b[0;34m\".dict\"\u001b[0m\u001b[0;34m\u001b[0m\u001b[0;34m\u001b[0m\u001b[0m\n\u001b[0;32m----> 6\u001b[0;31m \u001b[0mdialogue_agent\u001b[0m \u001b[0;34m=\u001b[0m \u001b[0mBaseDialogueWrapper\u001b[0m\u001b[0;34m(\u001b[0m\u001b[0mdialogue_model_opt\u001b[0m\u001b[0;34m)\u001b[0m\u001b[0;34m\u001b[0m\u001b[0;34m\u001b[0m\u001b[0m\n\u001b[0m\u001b[1;32m      7\u001b[0m \u001b[0mdialogue_agent\u001b[0m\u001b[0;34m\u001b[0m\u001b[0;34m\u001b[0m\u001b[0m\n",
      "\u001b[0;32m~/diplomacy/diplomacy_cicero/parlai_diplomacy/wrappers/base_wrapper.py\u001b[0m in \u001b[0;36m__init__\u001b[0;34m(self, model_path, additional_args)\u001b[0m\n\u001b[1;32m     84\u001b[0m \u001b[0;34m\u001b[0m\u001b[0m\n\u001b[1;32m     85\u001b[0m     \u001b[0;32mdef\u001b[0m \u001b[0m__init__\u001b[0m\u001b[0;34m(\u001b[0m\u001b[0mself\u001b[0m\u001b[0;34m,\u001b[0m \u001b[0mmodel_path\u001b[0m\u001b[0;34m:\u001b[0m \u001b[0mstr\u001b[0m\u001b[0;34m,\u001b[0m \u001b[0madditional_args\u001b[0m\u001b[0;34m=\u001b[0m\u001b[0;32mNone\u001b[0m\u001b[0;34m)\u001b[0m\u001b[0;34m:\u001b[0m\u001b[0;34m\u001b[0m\u001b[0;34m\u001b[0m\u001b[0m\n\u001b[0;32m---> 86\u001b[0;31m         \u001b[0moverride_opts\u001b[0m \u001b[0;34m=\u001b[0m \u001b[0mself\u001b[0m\u001b[0;34m.\u001b[0m\u001b[0m_load_overrides\u001b[0m\u001b[0;34m(\u001b[0m\u001b[0moverrides\u001b[0m\u001b[0;34m=\u001b[0m\u001b[0madditional_args\u001b[0m\u001b[0;34m.\u001b[0m\u001b[0mget\u001b[0m\u001b[0;34m(\u001b[0m\u001b[0;34m\"overrides\"\u001b[0m\u001b[0;34m)\u001b[0m\u001b[0;34m)\u001b[0m\u001b[0;34m\u001b[0m\u001b[0;34m\u001b[0m\u001b[0m\n\u001b[0m\u001b[1;32m     87\u001b[0m         \u001b[0;31m# Try freezing args for cacheed loading\u001b[0m\u001b[0;34m\u001b[0m\u001b[0;34m\u001b[0m\u001b[0;34m\u001b[0m\u001b[0m\n\u001b[1;32m     88\u001b[0m         \u001b[0mfrozen_args\u001b[0m \u001b[0;34m=\u001b[0m \u001b[0mfreeze_dictionary_args\u001b[0m\u001b[0;34m(\u001b[0m\u001b[0moverride_opts\u001b[0m\u001b[0;34m)\u001b[0m\u001b[0;34m\u001b[0m\u001b[0;34m\u001b[0m\u001b[0m\n",
      "\u001b[0;31mAttributeError\u001b[0m: 'NoneType' object has no attribute 'get'"
     ]
    }
   ],
   "source": [
    "dialogue_model_path = \"/data/user_data/wenkail/models/dialogue.opt\"\n",
    "dir = \"/data/user_data/wenkail/\"\n",
    "dialogue_model_opt = Opt.load_init(dialogue_model_path)\n",
    "dialogue_model_opt['model_file'] = dir + dialogue_model_opt['model_file'] + \".opt\"\n",
    "dialogue_model_opt['dict_file'] = dir + dialogue_model_opt['dict_file'] + \".dict\"\n",
    "dialogue_agent = BaseDialogueWrapper(dialogue_model_opt)\n",
    "dialogue_agent"
   ]
  },
  {
   "cell_type": "code",
   "execution_count": 24,
   "metadata": {},
   "outputs": [
    {
     "name": "stdout",
     "output_type": "stream",
     "text": [
      "Loading model from: /data/user_data/wenkail/models/dialogue.opt\n",
      "Error loading dialogue model: Model file not found: /data/user_data/wenkail/models/models/dialogue\n"
     ]
    }
   ],
   "source": [
    "dialogue_agent = load_dialogue_model(dir)"
   ]
  },
  {
   "cell_type": "code",
   "execution_count": 26,
   "metadata": {},
   "outputs": [
    {
     "name": "stdout",
     "output_type": "stream",
     "text": [
      "None\n"
     ]
    }
   ],
   "source": [
    "print(dialogue_agent)"
   ]
  }
 ],
 "metadata": {
  "kernelspec": {
   "display_name": "diplomacy_cicero",
   "language": "python",
   "name": "python3"
  },
  "language_info": {
   "codemirror_mode": {
    "name": "ipython",
    "version": 3
   },
   "file_extension": ".py",
   "mimetype": "text/x-python",
   "name": "python",
   "nbconvert_exporter": "python",
   "pygments_lexer": "ipython3",
   "version": "3.7.16"
  }
 },
 "nbformat": 4,
 "nbformat_minor": 2
}
