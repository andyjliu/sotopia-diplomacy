{
 "cells": [
  {
   "cell_type": "markdown",
   "metadata": {},
   "source": [
    "## Redis Stats Guidance\n",
    "\n",
    "In this notebook, we will explain what is stored and provided inside the redis database. What is the structure of each type of data including agent profile, relationship profile, environment profile, agentenv combo profile, and episodelog profile. Additionally, this notebook provides statistical information about how many datapoints are inside the provided database."
   ]
  },
  {
   "cell_type": "code",
   "execution_count": 6,
   "metadata": {},
   "outputs": [],
   "source": [
    "import os\n",
    "import sys\n",
    "import rich\n",
    "from collections import Counter\n",
    "from sotopia.database.persistent_profile import (\n",
    "    AgentProfile,\n",
    "    EnvironmentProfile,\n",
    "    RelationshipProfile,\n",
    ")\n",
    "from sotopia.database.logs import EpisodeLog\n",
    "from sotopia.database.env_agent_combo_storage import EnvAgentComboStorage\n",
    "\n",
    "sys.path.append(\"../\")\n",
    "# os.environ[\"REDIS_OM_URL\"] = \"redis://:QzmCUD3C3RdsR@localhost:6379\"\n",
    "os.environ[\"REDIS_OM_URL\"]=\"redis://:@localhost:6379\"\n"
   ]
  },
  {
   "cell_type": "markdown",
   "metadata": {},
   "source": [
    "## Relationship Profile\n",
    "\n",
    "RelationshipProfile stores the information about different relationship between agents."
   ]
  },
  {
   "cell_type": "code",
   "execution_count": 5,
   "metadata": {},
   "outputs": [
    {
     "ename": "TimeoutError",
     "evalue": "Timeout connecting to server",
     "output_type": "error",
     "traceback": [
      "\u001b[0;31m---------------------------------------------------------------------------\u001b[0m",
      "\u001b[0;31mTimeoutError\u001b[0m                              Traceback (most recent call last)",
      "File \u001b[0;32m~/miniconda3/envs/sotopia/lib/python3.11/site-packages/redis/connection.py:276\u001b[0m, in \u001b[0;36mAbstractConnection.connect\u001b[0;34m(self)\u001b[0m\n\u001b[1;32m    275\u001b[0m \u001b[39mtry\u001b[39;00m:\n\u001b[0;32m--> 276\u001b[0m     sock \u001b[39m=\u001b[39m \u001b[39mself\u001b[39;49m\u001b[39m.\u001b[39;49mretry\u001b[39m.\u001b[39;49mcall_with_retry(\n\u001b[1;32m    277\u001b[0m         \u001b[39mlambda\u001b[39;49;00m: \u001b[39mself\u001b[39;49m\u001b[39m.\u001b[39;49m_connect(), \u001b[39mlambda\u001b[39;49;00m error: \u001b[39mself\u001b[39;49m\u001b[39m.\u001b[39;49mdisconnect(error)\n\u001b[1;32m    278\u001b[0m     )\n\u001b[1;32m    279\u001b[0m \u001b[39mexcept\u001b[39;00m socket\u001b[39m.\u001b[39mtimeout:\n",
      "File \u001b[0;32m~/miniconda3/envs/sotopia/lib/python3.11/site-packages/redis/retry.py:51\u001b[0m, in \u001b[0;36mRetry.call_with_retry\u001b[0;34m(self, do, fail)\u001b[0m\n\u001b[1;32m     50\u001b[0m \u001b[39mif\u001b[39;00m \u001b[39mself\u001b[39m\u001b[39m.\u001b[39m_retries \u001b[39m>\u001b[39m\u001b[39m=\u001b[39m \u001b[39m0\u001b[39m \u001b[39mand\u001b[39;00m failures \u001b[39m>\u001b[39m \u001b[39mself\u001b[39m\u001b[39m.\u001b[39m_retries:\n\u001b[0;32m---> 51\u001b[0m     \u001b[39mraise\u001b[39;00m error\n\u001b[1;32m     52\u001b[0m backoff \u001b[39m=\u001b[39m \u001b[39mself\u001b[39m\u001b[39m.\u001b[39m_backoff\u001b[39m.\u001b[39mcompute(failures)\n",
      "File \u001b[0;32m~/miniconda3/envs/sotopia/lib/python3.11/site-packages/redis/retry.py:46\u001b[0m, in \u001b[0;36mRetry.call_with_retry\u001b[0;34m(self, do, fail)\u001b[0m\n\u001b[1;32m     45\u001b[0m \u001b[39mtry\u001b[39;00m:\n\u001b[0;32m---> 46\u001b[0m     \u001b[39mreturn\u001b[39;00m do()\n\u001b[1;32m     47\u001b[0m \u001b[39mexcept\u001b[39;00m \u001b[39mself\u001b[39m\u001b[39m.\u001b[39m_supported_errors \u001b[39mas\u001b[39;00m error:\n",
      "File \u001b[0;32m~/miniconda3/envs/sotopia/lib/python3.11/site-packages/redis/connection.py:277\u001b[0m, in \u001b[0;36mAbstractConnection.connect.<locals>.<lambda>\u001b[0;34m()\u001b[0m\n\u001b[1;32m    275\u001b[0m \u001b[39mtry\u001b[39;00m:\n\u001b[1;32m    276\u001b[0m     sock \u001b[39m=\u001b[39m \u001b[39mself\u001b[39m\u001b[39m.\u001b[39mretry\u001b[39m.\u001b[39mcall_with_retry(\n\u001b[0;32m--> 277\u001b[0m         \u001b[39mlambda\u001b[39;00m: \u001b[39mself\u001b[39;49m\u001b[39m.\u001b[39;49m_connect(), \u001b[39mlambda\u001b[39;00m error: \u001b[39mself\u001b[39m\u001b[39m.\u001b[39mdisconnect(error)\n\u001b[1;32m    278\u001b[0m     )\n\u001b[1;32m    279\u001b[0m \u001b[39mexcept\u001b[39;00m socket\u001b[39m.\u001b[39mtimeout:\n",
      "File \u001b[0;32m~/miniconda3/envs/sotopia/lib/python3.11/site-packages/redis/connection.py:639\u001b[0m, in \u001b[0;36mConnection._connect\u001b[0;34m(self)\u001b[0m\n\u001b[1;32m    638\u001b[0m \u001b[39mif\u001b[39;00m err \u001b[39mis\u001b[39;00m \u001b[39mnot\u001b[39;00m \u001b[39mNone\u001b[39;00m:\n\u001b[0;32m--> 639\u001b[0m     \u001b[39mraise\u001b[39;00m err\n\u001b[1;32m    640\u001b[0m \u001b[39mraise\u001b[39;00m \u001b[39mOSError\u001b[39;00m(\u001b[39m\"\u001b[39m\u001b[39msocket.getaddrinfo returned an empty list\u001b[39m\u001b[39m\"\u001b[39m)\n",
      "File \u001b[0;32m~/miniconda3/envs/sotopia/lib/python3.11/site-packages/redis/connection.py:627\u001b[0m, in \u001b[0;36mConnection._connect\u001b[0;34m(self)\u001b[0m\n\u001b[1;32m    626\u001b[0m \u001b[39m# connect\u001b[39;00m\n\u001b[0;32m--> 627\u001b[0m sock\u001b[39m.\u001b[39;49mconnect(socket_address)\n\u001b[1;32m    629\u001b[0m \u001b[39m# set the socket_timeout now that we're connected\u001b[39;00m\n",
      "\u001b[0;31mTimeoutError\u001b[0m: [Errno 110] Connection timed out",
      "\nDuring handling of the above exception, another exception occurred:\n",
      "\u001b[0;31mTimeoutError\u001b[0m                              Traceback (most recent call last)",
      "\u001b[1;32m/home/wenkail/sotopia-diplomacy/notebooks/redis_stats.ipynb Cell 4\u001b[0m line \u001b[0;36m2\n\u001b[1;32m      <a href='vscode-notebook-cell://127.0.0.1:20000/home/wenkail/sotopia-diplomacy/notebooks/redis_stats.ipynb#W3sdnNjb2RlLXJlbW90ZQ%3D%3D?line=0'>1</a>\u001b[0m res_pks \u001b[39m=\u001b[39m RelationshipProfile\u001b[39m.\u001b[39mall_pks()\n\u001b[0;32m----> <a href='vscode-notebook-cell://127.0.0.1:20000/home/wenkail/sotopia-diplomacy/notebooks/redis_stats.ipynb#W3sdnNjb2RlLXJlbW90ZQ%3D%3D?line=1'>2</a>\u001b[0m res_pks \u001b[39m=\u001b[39m \u001b[39mlist\u001b[39;49m(res_pks)\n\u001b[1;32m      <a href='vscode-notebook-cell://127.0.0.1:20000/home/wenkail/sotopia-diplomacy/notebooks/redis_stats.ipynb#W3sdnNjb2RlLXJlbW90ZQ%3D%3D?line=2'>3</a>\u001b[0m \u001b[39mprint\u001b[39m(\u001b[39mlen\u001b[39m(res_pks))\n\u001b[1;32m      <a href='vscode-notebook-cell://127.0.0.1:20000/home/wenkail/sotopia-diplomacy/notebooks/redis_stats.ipynb#W3sdnNjb2RlLXJlbW90ZQ%3D%3D?line=3'>4</a>\u001b[0m res \u001b[39m=\u001b[39m []\n",
      "File \u001b[0;32m~/miniconda3/envs/sotopia/lib/python3.11/site-packages/redis_om/model/model.py:1712\u001b[0m, in \u001b[0;36m<genexpr>\u001b[0;34m(.0)\u001b[0m\n\u001b[1;32m   1709\u001b[0m key_prefix \u001b[39m=\u001b[39m \u001b[39mcls\u001b[39m\u001b[39m.\u001b[39mmake_key(\u001b[39mcls\u001b[39m\u001b[39m.\u001b[39m_meta\u001b[39m.\u001b[39mprimary_key_pattern\u001b[39m.\u001b[39mformat(pk\u001b[39m=\u001b[39m\u001b[39m\"\u001b[39m\u001b[39m\"\u001b[39m))\n\u001b[1;32m   1710\u001b[0m \u001b[39m# TODO: We need to decide how we want to handle the lack of\u001b[39;00m\n\u001b[1;32m   1711\u001b[0m \u001b[39m#  decode_responses=True...\u001b[39;00m\n\u001b[0;32m-> 1712\u001b[0m \u001b[39mreturn\u001b[39;00m (\n\u001b[1;32m   1713\u001b[0m     (\n\u001b[1;32m   1714\u001b[0m         remove_prefix(key, key_prefix)\n\u001b[1;32m   1715\u001b[0m         \u001b[39mif\u001b[39;49;00m \u001b[39misinstance\u001b[39;49m(key, \u001b[39mstr\u001b[39;49m)\n\u001b[1;32m   1716\u001b[0m         \u001b[39melse\u001b[39;49;00m remove_prefix(key\u001b[39m.\u001b[39;49mdecode(\u001b[39mcls\u001b[39;49m\u001b[39m.\u001b[39;49mMeta\u001b[39m.\u001b[39;49mencoding), key_prefix)\n\u001b[1;32m   1717\u001b[0m     )\n\u001b[1;32m   1718\u001b[0m     \u001b[39mfor\u001b[39;49;00m key \u001b[39min\u001b[39;49;00m \u001b[39mcls\u001b[39;49m\u001b[39m.\u001b[39;49mdb()\u001b[39m.\u001b[39;49mscan_iter(\u001b[39mf\u001b[39;49m\u001b[39m\"\u001b[39;49m\u001b[39m{\u001b[39;49;00mkey_prefix\u001b[39m}\u001b[39;49;00m\u001b[39m*\u001b[39;49m\u001b[39m\"\u001b[39;49m, _type\u001b[39m=\u001b[39;49m\u001b[39m\"\u001b[39;49m\u001b[39mReJSON-RL\u001b[39;49m\u001b[39m\"\u001b[39;49m)\n\u001b[1;32m   1719\u001b[0m )\n",
      "File \u001b[0;32m~/miniconda3/envs/sotopia/lib/python3.11/site-packages/redis/commands/core.py:3051\u001b[0m, in \u001b[0;36mScanCommands.scan_iter\u001b[0;34m(self, match, count, _type, **kwargs)\u001b[0m\n\u001b[1;32m   3049\u001b[0m cursor \u001b[39m=\u001b[39m \u001b[39m\"\u001b[39m\u001b[39m0\u001b[39m\u001b[39m\"\u001b[39m\n\u001b[1;32m   3050\u001b[0m \u001b[39mwhile\u001b[39;00m cursor \u001b[39m!=\u001b[39m \u001b[39m0\u001b[39m:\n\u001b[0;32m-> 3051\u001b[0m     cursor, data \u001b[39m=\u001b[39m \u001b[39mself\u001b[39;49m\u001b[39m.\u001b[39;49mscan(\n\u001b[1;32m   3052\u001b[0m         cursor\u001b[39m=\u001b[39;49mcursor, match\u001b[39m=\u001b[39;49mmatch, count\u001b[39m=\u001b[39;49mcount, _type\u001b[39m=\u001b[39;49m_type, \u001b[39m*\u001b[39;49m\u001b[39m*\u001b[39;49mkwargs\n\u001b[1;32m   3053\u001b[0m     )\n\u001b[1;32m   3054\u001b[0m     \u001b[39myield from\u001b[39;00m data\n",
      "File \u001b[0;32m~/miniconda3/envs/sotopia/lib/python3.11/site-packages/redis/commands/core.py:3026\u001b[0m, in \u001b[0;36mScanCommands.scan\u001b[0;34m(self, cursor, match, count, _type, **kwargs)\u001b[0m\n\u001b[1;32m   3024\u001b[0m \u001b[39mif\u001b[39;00m _type \u001b[39mis\u001b[39;00m \u001b[39mnot\u001b[39;00m \u001b[39mNone\u001b[39;00m:\n\u001b[1;32m   3025\u001b[0m     pieces\u001b[39m.\u001b[39mextend([\u001b[39mb\u001b[39m\u001b[39m\"\u001b[39m\u001b[39mTYPE\u001b[39m\u001b[39m\"\u001b[39m, _type])\n\u001b[0;32m-> 3026\u001b[0m \u001b[39mreturn\u001b[39;00m \u001b[39mself\u001b[39;49m\u001b[39m.\u001b[39;49mexecute_command(\u001b[39m\"\u001b[39;49m\u001b[39mSCAN\u001b[39;49m\u001b[39m\"\u001b[39;49m, \u001b[39m*\u001b[39;49mpieces, \u001b[39m*\u001b[39;49m\u001b[39m*\u001b[39;49mkwargs)\n",
      "File \u001b[0;32m~/miniconda3/envs/sotopia/lib/python3.11/site-packages/redis/client.py:542\u001b[0m, in \u001b[0;36mRedis.execute_command\u001b[0;34m(self, *args, **options)\u001b[0m\n\u001b[1;32m    540\u001b[0m pool \u001b[39m=\u001b[39m \u001b[39mself\u001b[39m\u001b[39m.\u001b[39mconnection_pool\n\u001b[1;32m    541\u001b[0m command_name \u001b[39m=\u001b[39m args[\u001b[39m0\u001b[39m]\n\u001b[0;32m--> 542\u001b[0m conn \u001b[39m=\u001b[39m \u001b[39mself\u001b[39m\u001b[39m.\u001b[39mconnection \u001b[39mor\u001b[39;00m pool\u001b[39m.\u001b[39;49mget_connection(command_name, \u001b[39m*\u001b[39;49m\u001b[39m*\u001b[39;49moptions)\n\u001b[1;32m    544\u001b[0m \u001b[39mtry\u001b[39;00m:\n\u001b[1;32m    545\u001b[0m     \u001b[39mreturn\u001b[39;00m conn\u001b[39m.\u001b[39mretry\u001b[39m.\u001b[39mcall_with_retry(\n\u001b[1;32m    546\u001b[0m         \u001b[39mlambda\u001b[39;00m: \u001b[39mself\u001b[39m\u001b[39m.\u001b[39m_send_command_parse_response(\n\u001b[1;32m    547\u001b[0m             conn, command_name, \u001b[39m*\u001b[39margs, \u001b[39m*\u001b[39m\u001b[39m*\u001b[39moptions\n\u001b[1;32m    548\u001b[0m         ),\n\u001b[1;32m    549\u001b[0m         \u001b[39mlambda\u001b[39;00m error: \u001b[39mself\u001b[39m\u001b[39m.\u001b[39m_disconnect_raise(conn, error),\n\u001b[1;32m    550\u001b[0m     )\n",
      "File \u001b[0;32m~/miniconda3/envs/sotopia/lib/python3.11/site-packages/redis/connection.py:1109\u001b[0m, in \u001b[0;36mConnectionPool.get_connection\u001b[0;34m(self, command_name, *keys, **options)\u001b[0m\n\u001b[1;32m   1105\u001b[0m     \u001b[39mself\u001b[39m\u001b[39m.\u001b[39m_in_use_connections\u001b[39m.\u001b[39madd(connection)\n\u001b[1;32m   1107\u001b[0m \u001b[39mtry\u001b[39;00m:\n\u001b[1;32m   1108\u001b[0m     \u001b[39m# ensure this connection is connected to Redis\u001b[39;00m\n\u001b[0;32m-> 1109\u001b[0m     connection\u001b[39m.\u001b[39;49mconnect()\n\u001b[1;32m   1110\u001b[0m     \u001b[39m# connections that the pool provides should be ready to send\u001b[39;00m\n\u001b[1;32m   1111\u001b[0m     \u001b[39m# a command. if not, the connection was either returned to the\u001b[39;00m\n\u001b[1;32m   1112\u001b[0m     \u001b[39m# pool before all data has been read or the socket has been\u001b[39;00m\n\u001b[1;32m   1113\u001b[0m     \u001b[39m# closed. either way, reconnect and verify everything is good.\u001b[39;00m\n\u001b[1;32m   1114\u001b[0m     \u001b[39mtry\u001b[39;00m:\n",
      "File \u001b[0;32m~/miniconda3/envs/sotopia/lib/python3.11/site-packages/redis/connection.py:280\u001b[0m, in \u001b[0;36mAbstractConnection.connect\u001b[0;34m(self)\u001b[0m\n\u001b[1;32m    276\u001b[0m     sock \u001b[39m=\u001b[39m \u001b[39mself\u001b[39m\u001b[39m.\u001b[39mretry\u001b[39m.\u001b[39mcall_with_retry(\n\u001b[1;32m    277\u001b[0m         \u001b[39mlambda\u001b[39;00m: \u001b[39mself\u001b[39m\u001b[39m.\u001b[39m_connect(), \u001b[39mlambda\u001b[39;00m error: \u001b[39mself\u001b[39m\u001b[39m.\u001b[39mdisconnect(error)\n\u001b[1;32m    278\u001b[0m     )\n\u001b[1;32m    279\u001b[0m \u001b[39mexcept\u001b[39;00m socket\u001b[39m.\u001b[39mtimeout:\n\u001b[0;32m--> 280\u001b[0m     \u001b[39mraise\u001b[39;00m \u001b[39mTimeoutError\u001b[39;00m(\u001b[39m\"\u001b[39m\u001b[39mTimeout connecting to server\u001b[39m\u001b[39m\"\u001b[39m)\n\u001b[1;32m    281\u001b[0m \u001b[39mexcept\u001b[39;00m \u001b[39mOSError\u001b[39;00m \u001b[39mas\u001b[39;00m e:\n\u001b[1;32m    282\u001b[0m     \u001b[39mraise\u001b[39;00m \u001b[39mConnectionError\u001b[39;00m(\u001b[39mself\u001b[39m\u001b[39m.\u001b[39m_error_message(e))\n",
      "\u001b[0;31mTimeoutError\u001b[0m: Timeout connecting to server"
     ]
    }
   ],
   "source": [
    "res_pks = RelationshipProfile.all_pks()\n",
    "res_pks = list(res_pks)\n",
    "print(len(res_pks))\n",
    "res = []\n",
    "for pk in res_pks:\n",
    "    try:\n",
    "        res.append(RelationshipProfile.get(pk=pk))\n",
    "    except Exception:\n",
    "        print(\"error\")\n",
    "        pass\n",
    "res_relationships = [r.relationship for r in res]\n",
    "Counter(res_relationships)"
   ]
  },
  {
   "cell_type": "markdown",
   "metadata": {},
   "source": [
    "## Agents Profile\n",
    "\n",
    "AgentProfile stores the information about each agent."
   ]
  },
  {
   "cell_type": "code",
   "execution_count": null,
   "metadata": {},
   "outputs": [],
   "source": [
    "# obtain a specific agent\n",
    "agents = AgentProfile.find(AgentProfile.first_name == \"ss\").all()\n",
    "rich.print(agents)"
   ]
  },
  {
   "cell_type": "code",
   "execution_count": null,
   "metadata": {},
   "outputs": [],
   "source": [
    "# find specific agnets\n",
    "agents = AgentProfile.find(AgentProfile.gender == \"Man\", AgentProfile.age > 30)\n",
    "agents = agents.all()\n",
    "print(len(agents))\n",
    "rich.print(agents[0])"
   ]
  },
  {
   "cell_type": "code",
   "execution_count": null,
   "metadata": {},
   "outputs": [],
   "source": [
    "# obtain all agents' basic info\n",
    "agent_pks = AgentProfile.all_pks()\n",
    "agent_pks = list(agent_pks)\n",
    "agents = []\n",
    "for pk in agent_pks:\n",
    "    try:\n",
    "        agents.append(AgentProfile.get(pk=pk))\n",
    "    except Exception:\n",
    "        print(\"error\")\n",
    "        pass\n",
    "print(len(agents))\n",
    "rich.print(agents[0])"
   ]
  },
  {
   "cell_type": "code",
   "execution_count": null,
   "metadata": {},
   "outputs": [],
   "source": [
    "agent_pks = AgentProfile.all_pks()\n",
    "agent_pks = list(agent_pks)\n",
    "print(len(agent_pks))"
   ]
  },
  {
   "cell_type": "code",
   "execution_count": null,
   "metadata": {},
   "outputs": [],
   "source": [
    "# Update agent's information\n",
    "agents = AgentProfile.find(\n",
    "    AgentProfile.first_name == \"Ava\", AgentProfile.last_name == \"Martinez\"\n",
    ").all()[0]"
   ]
  },
  {
   "cell_type": "code",
   "execution_count": null,
   "metadata": {},
   "outputs": [],
   "source": [
    "agents.update(secret=\"Keeps their bisexuality a secret from her conservative family\")"
   ]
  },
  {
   "cell_type": "markdown",
   "metadata": {},
   "source": [
    "## Environment Profile\n",
    "\n",
    "EnvironmentProfile stores the information about social scenario. "
   ]
  },
  {
   "cell_type": "code",
   "execution_count": null,
   "metadata": {},
   "outputs": [],
   "source": [
    "# get all environments\n",
    "all_envs = list(EnvironmentProfile.all_pks())\n",
    "print(len(all_envs))\n",
    "print(all_envs[:5])"
   ]
  },
  {
   "cell_type": "code",
   "execution_count": null,
   "metadata": {},
   "outputs": [],
   "source": [
    "# get a specific environment profile\n",
    "env_profile_id = all_envs[0]\n",
    "env = EnvironmentProfile.get(env_profile_id)\n",
    "rich.print(env)"
   ]
  },
  {
   "cell_type": "markdown",
   "metadata": {},
   "source": [
    "## EnvAgentComboStorage\n",
    "Identify the combination of environment and agent that is used in the episodes.\n",
    "Once we have the combination, we can use it to start the simulation.\n",
    "Combo is a combination of Environment and two agents."
   ]
  },
  {
   "cell_type": "code",
   "execution_count": null,
   "metadata": {},
   "outputs": [],
   "source": [
    "# all env-agent combos\n",
    "all_combos = EnvAgentComboStorage().all_pks()\n",
    "all_combos = list(all_combos)\n",
    "print(len(all_combos))\n",
    "rich.print(EnvAgentComboStorage().get(all_combos[0]))"
   ]
  },
  {
   "cell_type": "markdown",
   "metadata": {},
   "source": [
    "## EnvironmentList\n",
    "Store a list of special environments (e.g., sotopia hard) that can be used to start certain simulations. Agent index is used to identify the special agent in the simulation."
   ]
  },
  {
   "cell_type": "code",
   "execution_count": null,
   "metadata": {},
   "outputs": [],
   "source": [
    "from sotopia.database.persistent_profile import EnvironmentList\n",
    "\n",
    "all_list = EnvironmentList.all_pks()\n",
    "all_list = list(all_list)\n",
    "print(len(all_list))"
   ]
  },
  {
   "cell_type": "code",
   "execution_count": null,
   "metadata": {},
   "outputs": [],
   "source": [
    "from sotopia.samplers import ConstraintBasedSampler\n",
    "from sotopia.messages import AgentAction, Observation\n",
    "from sotopia.agents import LLMAgent\n",
    "import json\n",
    "# In this example, we will demonstrate using the EnvironmentList class to sample a list of EnvAgentComboStorage and serialize it to a json file that can be used for sharing with others for benchmarking purposes.\n",
    "\n",
    "\n",
    "def _sample_env_agent_combo_and_push_to_db(env_id: str) -> list[EnvAgentComboStorage]:\n",
    "    combo_list = []\n",
    "    sampler = ConstraintBasedSampler[Observation, AgentAction](env_candidates=[env_id])\n",
    "    env_agent_combo_list = list(\n",
    "        sampler.sample(agent_classes=[LLMAgent] * 2, replacement=False, size=10)\n",
    "    )\n",
    "    for env, agent in env_agent_combo_list:\n",
    "        combo = EnvAgentComboStorage(\n",
    "            env_id=env.profile.pk,\n",
    "            agent_ids=[agent[0].profile.pk, agent[1].profile.pk],\n",
    "        )\n",
    "        combo_list.append(combo)\n",
    "    return combo_list\n",
    "\n",
    "\n",
    "# First we will extrat the hard environments from the EnvironmentList\n",
    "hard_envs = EnvironmentList.get(\"01HAK34YPB1H1RWXQDASDKHSNS\").environments\n",
    "print(len(hard_envs))\n",
    "hard_envs_set = set(hard_envs)\n",
    "\n",
    "# Next we will sample 10 EnvAgentComboStorage from each hard environment\n",
    "final_list_for_benchmark_agents = []\n",
    "for env in hard_envs_set:\n",
    "    combo_list = EnvAgentComboStorage.find(EnvAgentComboStorage.env_id == env).all()\n",
    "    print(len(combo_list))\n",
    "    final_list_for_benchmark_agents.extend(combo_list)\n",
    "\n",
    "# Finally we will serialize the list to a json file\n",
    "with open(\"../data/benchmark_agents.json\", \"w\") as f:\n",
    "    json.dump(\n",
    "        [combo.dict() for combo in final_list_for_benchmark_agents],\n",
    "        f,\n",
    "        indent=4,\n",
    "    )"
   ]
  },
  {
   "cell_type": "code",
   "execution_count": null,
   "metadata": {},
   "outputs": [],
   "source": [
    "EnvironmentList.get(\"01HAK34YPB1H1RWXQDASDKHSNS\")"
   ]
  },
  {
   "cell_type": "markdown",
   "metadata": {},
   "source": [
    "## Episode Log"
   ]
  },
  {
   "cell_type": "code",
   "execution_count": null,
   "metadata": {},
   "outputs": [],
   "source": [
    "# find episode log by tag\n",
    "Episodes = EpisodeLog.find(EpisodeLog.tag == \"aug20_gpt4_llama-2-70b-chat_zqi2\").all()\n",
    "len(Episodes)  ## Episode Log\n",
    "\n",
    "## Episodelog stores the social conversation between two agents in an environment."
   ]
  },
  {
   "cell_type": "code",
   "execution_count": null,
   "metadata": {},
   "outputs": [],
   "source": [
    "# get all episode logs' primary keys\n",
    "episode_pks = EpisodeLog.all_pks()\n",
    "episode_pks = list(episode_pks)\n",
    "print(len(episode_pks))\n",
    "print(episode_pks[0])"
   ]
  },
  {
   "cell_type": "code",
   "execution_count": null,
   "metadata": {},
   "outputs": [],
   "source": [
    "test_ep = EpisodeLog.get(episode_pks[0])\n",
    "agent_profiles, conversation = test_ep.render_for_humans()\n",
    "for agent_profile in agent_profiles:\n",
    "    rich.print(agent_profile)\n",
    "for message in conversation:\n",
    "    rich.print(message)"
   ]
  },
  {
   "cell_type": "code",
   "execution_count": null,
   "metadata": {},
   "outputs": [],
   "source": [
    "# get the epilogs that contain the specified models\n",
    "model1 = \"gpt-4\"\n",
    "model2 = \"gpt-4\"\n",
    "model_comp1 = [\"gpt-4\", model1, model2]\n",
    "model_comp2 = [\"gpt-4\", model2, model1]\n",
    "\n",
    "gpt4_gpt4_eps = []\n",
    "for epid in episode_pks:\n",
    "    try:\n",
    "        curr_ep = EpisodeLog.get(epid)\n",
    "    except Exception:\n",
    "        continue\n",
    "    if curr_ep.models == model_comp1 or curr_ep.models == model_comp2:\n",
    "        gpt4_gpt4_eps.append(curr_ep)\n",
    "len(gpt4_gpt4_eps)"
   ]
  },
  {
   "cell_type": "code",
   "execution_count": null,
   "metadata": {},
   "outputs": [],
   "source": [
    "agent_profiles, conversation = gpt4_gpt4_eps[0].render_for_humans()\n",
    "for agent_profile in agent_profiles:\n",
    "    rich.print(agent_profile)\n",
    "for message in conversation:\n",
    "    rich.print(message)"
   ]
  }
 ],
 "metadata": {
  "kernelspec": {
   "display_name": "sotopia",
   "language": "python",
   "name": "python3"
  },
  "language_info": {
   "codemirror_mode": {
    "name": "ipython",
    "version": 3
   },
   "file_extension": ".py",
   "mimetype": "text/x-python",
   "name": "python",
   "nbconvert_exporter": "python",
   "pygments_lexer": "ipython3",
   "version": "3.11.2"
  }
 },
 "nbformat": 4,
 "nbformat_minor": 2
}
