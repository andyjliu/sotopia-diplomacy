{
 "cells": [
  {
   "cell_type": "markdown",
   "metadata": {},
   "source": [
    "## Add Agents"
   ]
  },
  {
   "cell_type": "code",
   "execution_count": 2,
   "metadata": {},
   "outputs": [
    {
     "name": "stderr",
     "output_type": "stream",
     "text": [
      "/home/wenkail/miniconda3/envs/sotopia/lib/python3.11/site-packages/beartype/_util/hint/pep/utilpeptest.py:339: BeartypeDecorHintPep585DeprecationWarning: PEP 484 type hint typing.Sequence[sotopia.agents.base_agent.BaseAgent[sotopia.messages.message_classes.Observation, sotopia.messages.message_classes.AgentAction]] deprecated by PEP 585. This hint is scheduled for removal in the first Python version released after October 5th, 2025. To resolve this, import this hint from \"beartype.typing\" rather than \"typing\". For further commentary and alternatives, see also:\n",
      "    https://beartype.readthedocs.io/en/latest/api_roar/#pep-585-deprecations\n",
      "  warn(\n"
     ]
    }
   ],
   "source": [
    "from profile_utils import add_agent_to_database\n",
    "import random\n",
    "\n",
    "from rich import print\n",
    "\n",
    "from sotopia.database import AgentProfile"
   ]
  },
  {
   "cell_type": "code",
   "execution_count": 3,
   "metadata": {},
   "outputs": [],
   "source": [
    "first_name = 'Emily' # @param {type:\"string\"}\n",
    "last_name = 'Carter' # @param {type:\"string\"}\n",
    "country = \"England\" # @param {type:\"string\"}\n",
    "goal = \"You are playing England in a game of Diplomacy. Your goal is to control 18 or more of the supply centers by the end of the game.\"\n",
    "\n",
    "\n",
    "add_agent_to_database(\n",
    "    first_name = first_name,\n",
    "    last_name = last_name,\n",
    "    country = country,\n",
    "    goal = goal\n",
    ")\n",
    "\n",
    "first_name = 'James' # @param {type:\"string\"}\n",
    "last_name = 'Anderson' # @param {type:\"string\"}\n",
    "country = \"Germany\" # @param {type:\"string\"}\n",
    "\n",
    "# TODO: replace the Hard code here\n",
    "goal = \"You are playing Germany in a game of Diplomacy. Your goal is to control 18 or more of the supply centers by the end of the game.\"\n",
    "\n",
    "\n",
    "add_agent_to_database(\n",
    "    first_name = first_name,\n",
    "    last_name = last_name,\n",
    "    country = country,\n",
    "    goal = goal\n",
    ")"
   ]
  },
  {
   "cell_type": "markdown",
   "metadata": {},
   "source": [
    "## Check Agents"
   ]
  },
  {
   "cell_type": "code",
   "execution_count": 3,
   "metadata": {},
   "outputs": [
    {
     "data": {
      "text/html": [
       "<pre style=\"white-space:pre;overflow-x:auto;line-height:normal;font-family:Menlo,'DejaVu Sans Mono',consolas,'Courier New',monospace\"><span style=\"color: #800080; text-decoration-color: #800080; font-weight: bold\">AgentProfile</span><span style=\"font-weight: bold\">(</span>\n",
       "    <span style=\"color: #808000; text-decoration-color: #808000\">pk</span>=<span style=\"color: #008000; text-decoration-color: #008000\">'01J1SY43GE78E1AQXJW1SSWR3F'</span>,\n",
       "    <span style=\"color: #808000; text-decoration-color: #808000\">first_name</span>=<span style=\"color: #008000; text-decoration-color: #008000\">'James'</span>,\n",
       "    <span style=\"color: #808000; text-decoration-color: #808000\">last_name</span>=<span style=\"color: #008000; text-decoration-color: #008000\">'Anderson'</span>,\n",
       "    <span style=\"color: #808000; text-decoration-color: #808000\">country</span>=<span style=\"color: #008000; text-decoration-color: #008000\">'Germany'</span>,\n",
       "    <span style=\"color: #808000; text-decoration-color: #808000\">goal</span>=<span style=\"color: #008000; text-decoration-color: #008000\">'You are playing Germany in a game of Diplomacy. Your goal is to control 18 or more of the supply centers </span>\n",
       "<span style=\"color: #008000; text-decoration-color: #008000\">by the end of the game.'</span>\n",
       "<span style=\"font-weight: bold\">)</span>\n",
       "</pre>\n"
      ],
      "text/plain": [
       "\u001b[1;35mAgentProfile\u001b[0m\u001b[1m(\u001b[0m\n",
       "    \u001b[33mpk\u001b[0m=\u001b[32m'01J1SY43GE78E1AQXJW1SSWR3F'\u001b[0m,\n",
       "    \u001b[33mfirst_name\u001b[0m=\u001b[32m'James'\u001b[0m,\n",
       "    \u001b[33mlast_name\u001b[0m=\u001b[32m'Anderson'\u001b[0m,\n",
       "    \u001b[33mcountry\u001b[0m=\u001b[32m'Germany'\u001b[0m,\n",
       "    \u001b[33mgoal\u001b[0m=\u001b[32m'You are playing Germany in a game of Diplomacy. Your goal is to control 18 or more of the supply centers \u001b[0m\n",
       "\u001b[32mby the end of the game.'\u001b[0m\n",
       "\u001b[1m)\u001b[0m\n"
      ]
     },
     "metadata": {},
     "output_type": "display_data"
    },
    {
     "data": {
      "text/html": [
       "<pre style=\"white-space:pre;overflow-x:auto;line-height:normal;font-family:Menlo,'DejaVu Sans Mono',consolas,'Courier New',monospace\"><span style=\"color: #800080; text-decoration-color: #800080; font-weight: bold\">AgentProfile</span><span style=\"font-weight: bold\">(</span>\n",
       "    <span style=\"color: #808000; text-decoration-color: #808000\">pk</span>=<span style=\"color: #008000; text-decoration-color: #008000\">'01J1SY43G6DHV7NVVQKGXCB6Q0'</span>,\n",
       "    <span style=\"color: #808000; text-decoration-color: #808000\">first_name</span>=<span style=\"color: #008000; text-decoration-color: #008000\">'Emily'</span>,\n",
       "    <span style=\"color: #808000; text-decoration-color: #808000\">last_name</span>=<span style=\"color: #008000; text-decoration-color: #008000\">'Carter'</span>,\n",
       "    <span style=\"color: #808000; text-decoration-color: #808000\">country</span>=<span style=\"color: #008000; text-decoration-color: #008000\">'England'</span>,\n",
       "    <span style=\"color: #808000; text-decoration-color: #808000\">goal</span>=<span style=\"color: #008000; text-decoration-color: #008000\">'You are playing England in a game of Diplomacy. Your goal is to control 18 or more of the supply centers </span>\n",
       "<span style=\"color: #008000; text-decoration-color: #008000\">by the end of the game.'</span>\n",
       "<span style=\"font-weight: bold\">)</span>\n",
       "</pre>\n"
      ],
      "text/plain": [
       "\u001b[1;35mAgentProfile\u001b[0m\u001b[1m(\u001b[0m\n",
       "    \u001b[33mpk\u001b[0m=\u001b[32m'01J1SY43G6DHV7NVVQKGXCB6Q0'\u001b[0m,\n",
       "    \u001b[33mfirst_name\u001b[0m=\u001b[32m'Emily'\u001b[0m,\n",
       "    \u001b[33mlast_name\u001b[0m=\u001b[32m'Carter'\u001b[0m,\n",
       "    \u001b[33mcountry\u001b[0m=\u001b[32m'England'\u001b[0m,\n",
       "    \u001b[33mgoal\u001b[0m=\u001b[32m'You are playing England in a game of Diplomacy. Your goal is to control 18 or more of the supply centers \u001b[0m\n",
       "\u001b[32mby the end of the game.'\u001b[0m\n",
       "\u001b[1m)\u001b[0m\n"
      ]
     },
     "metadata": {},
     "output_type": "display_data"
    }
   ],
   "source": [
    "all_character_pks = list(AgentProfile.all_pks())\n",
    "pk = random.choice(all_character_pks)\n",
    "for pk in all_character_pks:\n",
    "    print(AgentProfile.get(pk))"
   ]
  },
  {
   "cell_type": "code",
   "execution_count": 4,
   "metadata": {},
   "outputs": [
    {
     "data": {
      "text/html": [
       "<pre style=\"white-space:pre;overflow-x:auto;line-height:normal;font-family:Menlo,'DejaVu Sans Mono',consolas,'Courier New',monospace\"><span style=\"color: #800080; text-decoration-color: #800080; font-weight: bold\">AgentProfile</span><span style=\"font-weight: bold\">(</span>\n",
       "    <span style=\"color: #808000; text-decoration-color: #808000\">pk</span>=<span style=\"color: #008000; text-decoration-color: #008000\">'01J1SY43GE78E1AQXJW1SSWR3F'</span>,\n",
       "    <span style=\"color: #808000; text-decoration-color: #808000\">first_name</span>=<span style=\"color: #008000; text-decoration-color: #008000\">'James'</span>,\n",
       "    <span style=\"color: #808000; text-decoration-color: #808000\">last_name</span>=<span style=\"color: #008000; text-decoration-color: #008000\">'Anderson'</span>,\n",
       "    <span style=\"color: #808000; text-decoration-color: #808000\">country</span>=<span style=\"color: #008000; text-decoration-color: #008000\">'Germany'</span>,\n",
       "    <span style=\"color: #808000; text-decoration-color: #808000\">goal</span>=<span style=\"color: #008000; text-decoration-color: #008000\">'You are playing Germany in a game of Diplomacy. Your goal is to control 18 or more of the supply centers </span>\n",
       "<span style=\"color: #008000; text-decoration-color: #008000\">by the end of the game.'</span>\n",
       "<span style=\"font-weight: bold\">)</span>\n",
       "</pre>\n"
      ],
      "text/plain": [
       "\u001b[1;35mAgentProfile\u001b[0m\u001b[1m(\u001b[0m\n",
       "    \u001b[33mpk\u001b[0m=\u001b[32m'01J1SY43GE78E1AQXJW1SSWR3F'\u001b[0m,\n",
       "    \u001b[33mfirst_name\u001b[0m=\u001b[32m'James'\u001b[0m,\n",
       "    \u001b[33mlast_name\u001b[0m=\u001b[32m'Anderson'\u001b[0m,\n",
       "    \u001b[33mcountry\u001b[0m=\u001b[32m'Germany'\u001b[0m,\n",
       "    \u001b[33mgoal\u001b[0m=\u001b[32m'You are playing Germany in a game of Diplomacy. Your goal is to control 18 or more of the supply centers \u001b[0m\n",
       "\u001b[32mby the end of the game.'\u001b[0m\n",
       "\u001b[1m)\u001b[0m\n"
      ]
     },
     "metadata": {},
     "output_type": "display_data"
    }
   ],
   "source": [
    "for pk in all_character_pks:\n",
    "    if AgentProfile.get(pk).country == \"Germany\":\n",
    "        print(AgentProfile.get(pk))"
   ]
  },
  {
   "cell_type": "code",
   "execution_count": 1,
   "metadata": {},
   "outputs": [
    {
     "ename": "ValueError",
     "evalue": "too many values to unpack (expected 2)",
     "output_type": "error",
     "traceback": [
      "\u001b[0;31m---------------------------------------------------------------------------\u001b[0m",
      "\u001b[0;31mValueError\u001b[0m                                Traceback (most recent call last)",
      "\u001b[1;32m/home/wenkail/diplomacy/sotopia-diplomacy/src/add_agent.ipynb Cell 7\u001b[0m line \u001b[0;36m1\n\u001b[0;32m----> <a href='vscode-notebook-cell://127.0.0.1:20001/home/wenkail/diplomacy/sotopia-diplomacy/src/add_agent.ipynb#W6sdnNjb2RlLXJlbW90ZQ%3D%3D?line=0'>1</a>\u001b[0m env_model, agent_model \u001b[39m=\u001b[39m \u001b[39m\"\u001b[39m\u001b[39mtogether_ai/meta-llama/Llama-3-8b-chat-hf\u001b[39m\u001b[39m\"\u001b[39m\n",
      "\u001b[0;31mValueError\u001b[0m: too many values to unpack (expected 2)"
     ]
    }
   ],
   "source": []
  }
 ],
 "metadata": {
  "kernelspec": {
   "display_name": "sotopia",
   "language": "python",
   "name": "python3"
  },
  "language_info": {
   "codemirror_mode": {
    "name": "ipython",
    "version": 3
   },
   "file_extension": ".py",
   "mimetype": "text/x-python",
   "name": "python",
   "nbconvert_exporter": "python",
   "pygments_lexer": "ipython3",
   "version": "3.11.9"
  }
 },
 "nbformat": 4,
 "nbformat_minor": 2
}
